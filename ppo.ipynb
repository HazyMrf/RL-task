{
  "cells": [
    {
      "cell_type": "code",
      "execution_count": 1,
      "metadata": {
        "id": "j9dfWABRNCVm"
      },
      "outputs": [
        {
          "name": "stdout",
          "output_type": "stream",
          "text": [
            "bash: ../xvfb: No such file or directory\n"
          ]
        }
      ],
      "source": [
        "import sys, os\n",
        "if 'google.colab' in sys.modules and not os.path.exists('.setup_complete'):\n",
        "    !wget -q https://raw.githubusercontent.com/yandexdataschool/Practical_RL/master/setup_colab.sh -O- | bash\n",
        "\n",
        "    !pip -q install gymnasium[mujoco]==1.0.0\n",
        "\n",
        "    !touch .setup_complete\n",
        "\n",
        "# This code creates a virtual display to draw game images on.\n",
        "# It will have no effect if your machine has a monitor.\n",
        "if type(os.environ.get(\"DISPLAY\")) is not str or len(os.environ.get(\"DISPLAY\")) == 0:\n",
        "    !bash ../xvfb start\n",
        "    os.environ['DISPLAY'] = ':1'"
      ]
    },
    {
      "cell_type": "code",
      "execution_count": 2,
      "metadata": {
        "id": "MZeKC7aO4RIC"
      },
      "outputs": [],
      "source": [
        "from tqdm import tqdm"
      ]
    },
    {
      "cell_type": "code",
      "execution_count": 3,
      "metadata": {
        "colab": {
          "base_uri": "https://localhost:8080/"
        },
        "id": "Y2N76WIRNCVx",
        "outputId": "1272b185-b48c-4a6f-c073-d3377d64aaec"
      },
      "outputs": [
        {
          "name": "stdout",
          "output_type": "stream",
          "text": [
            "Observation space:  Box(-inf, inf, (17,), float64)\n",
            "Action space:  Box(-1.0, 1.0, (6,), float32)\n"
          ]
        }
      ],
      "source": [
        "import gymnasium as gym\n",
        "\n",
        "ENV_NAME = \"HalfCheetah-v5\"\n",
        "\n",
        "\n",
        "def make_env(**kwargs):\n",
        "    return gym.make(ENV_NAME, **kwargs)\n",
        "\n",
        "\n",
        "env = make_env(render_mode=\"rgb_array\")\n",
        "print(\"Observation space: \", env.observation_space)\n",
        "print(\"Action space: \", env.action_space)"
      ]
    },
    {
      "cell_type": "code",
      "execution_count": 5,
      "metadata": {},
      "outputs": [],
      "source": [
        "!pip install mujoco\n",
        "\n",
        "# Set up GPU rendering.\n",
        "# from google.colab import files\n",
        "import distutils.util\n",
        "import os\n",
        "import subprocess\n",
        "if subprocess.run('nvidia-smi').returncode:\n",
        "  raise RuntimeError(\n",
        "      'Cannot communicate with GPU. '\n",
        "      'Make sure you are using a GPU Colab runtime. '\n",
        "      'Go to the Runtime menu and select Choose runtime type.')\n",
        "\n",
        "# Add an ICD config so that glvnd can pick up the Nvidia EGL driver.\n",
        "# This is usually installed as part of an Nvidia driver package, but the Colab\n",
        "# kernel doesn't install its driver via APT, and as a result the ICD is missing.\n",
        "# (https://github.com/NVIDIA/libglvnd/blob/master/src/EGL/icd_enumeration.md)\n",
        "NVIDIA_ICD_CONFIG_PATH = '/usr/share/glvnd/egl_vendor.d/10_nvidia.json'\n",
        "if not os.path.exists(NVIDIA_ICD_CONFIG_PATH):\n",
        "  with open(NVIDIA_ICD_CONFIG_PATH, 'w') as f:\n",
        "    f.write(\"\"\"{\n",
        "    \"file_format_version\" : \"1.0.0\",\n",
        "    \"ICD\" : {\n",
        "        \"library_path\" : \"libEGL_nvidia.so.0\"\n",
        "    }\n",
        "}\n",
        "\"\"\")\n",
        "\n",
        "# Configure MuJoCo to use the EGL rendering backend (requires GPU)\n",
        "print('Setting environment variable to use GPU rendering:')\n",
        "%env MUJOCO_GL=egl\n",
        "\n",
        "# Check if installation was succesful.\n",
        "try:\n",
        "  print('Checking that the installation succeeded:')\n",
        "  import mujoco\n",
        "  mujoco.MjModel.from_xml_string('<mujoco/>')\n",
        "except Exception as e:\n",
        "  raise e from RuntimeError(\n",
        "      'Something went wrong during installation. Check the shell output above '\n",
        "      'for more information.\\n'\n",
        "      'If using a hosted Colab runtime, make sure you enable GPU acceleration '\n",
        "      'by going to the Runtime menu and selecting \"Choose runtime type\".')\n",
        "\n",
        "print('Installation successful.')\n",
        "\n",
        "# Other imports and helper functions\n",
        "import time\n",
        "import itertools\n",
        "import numpy as np\n",
        "\n",
        "# Graphics and plotting.\n",
        "print('Installing mediapy:')\n",
        "!command -v ffmpeg >/dev/null || (apt update && apt install -y ffmpeg)\n",
        "!pip install -q mediapy\n",
        "import mediapy as media\n",
        "import matplotlib.pyplot as plt\n",
        "\n",
        "# More legible printing from numpy.\n",
        "np.set_printoptions(precision=3, suppress=True, linewidth=100)\n",
        "\n",
        "from IPython.display import clear_output\n",
        "clear_output()"
      ]
    },
    {
      "cell_type": "code",
      "execution_count": 6,
      "metadata": {},
      "outputs": [],
      "source": [
        "xml = \"\"\"\n",
        "<mujoco>\n",
        "  <worldbody>\n",
        "    <geom name=\"red_box\" type=\"box\" size=\".2 .2 .2\" rgba=\"1 0 0 1\"/>\n",
        "    <geom name=\"green_sphere\" pos=\".2 .2 .2\" size=\".1\" rgba=\"0 1 0 1\"/>\n",
        "  </worldbody>\n",
        "</mujoco>\n",
        "\"\"\"\n",
        "model = mujoco.MjModel.from_xml_string(xml)"
      ]
    },
    {
      "cell_type": "code",
      "execution_count": 7,
      "metadata": {
        "colab": {
          "base_uri": "https://localhost:8080/",
          "height": 452
        },
        "id": "XRMAhWjN48Qx",
        "outputId": "f31717c3-1477-4199-ab49-65dfe0c183f1"
      },
      "outputs": [
        {
          "ename": "FatalError",
          "evalue": "gladLoadGL error",
          "output_type": "error",
          "traceback": [
            "\u001b[0;31m---------------------------------------------------------------------------\u001b[0m",
            "\u001b[0;31mFatalError\u001b[0m                                Traceback (most recent call last)",
            "Cell \u001b[0;32mIn[7], line 4\u001b[0m\n\u001b[1;32m      1\u001b[0m \u001b[38;5;28;01mimport\u001b[39;00m\u001b[38;5;250m \u001b[39m\u001b[38;5;21;01mmatplotlib\u001b[39;00m\u001b[38;5;21;01m.\u001b[39;00m\u001b[38;5;21;01mpyplot\u001b[39;00m\u001b[38;5;250m \u001b[39m\u001b[38;5;28;01mas\u001b[39;00m\u001b[38;5;250m \u001b[39m\u001b[38;5;21;01mplt\u001b[39;00m\n\u001b[1;32m      3\u001b[0m env\u001b[38;5;241m.\u001b[39mreset()\n\u001b[0;32m----> 4\u001b[0m plt\u001b[38;5;241m.\u001b[39mimshow(\u001b[43menv\u001b[49m\u001b[38;5;241;43m.\u001b[39;49m\u001b[43mrender\u001b[49m\u001b[43m(\u001b[49m\u001b[43m)\u001b[49m)\n",
            "File \u001b[0;32m~/anaconda3/envs/RL_course/lib/python3.9/site-packages/gymnasium/core.py:332\u001b[0m, in \u001b[0;36mWrapper.render\u001b[0;34m(self)\u001b[0m\n\u001b[1;32m    330\u001b[0m \u001b[38;5;28;01mdef\u001b[39;00m\u001b[38;5;250m \u001b[39m\u001b[38;5;21mrender\u001b[39m(\u001b[38;5;28mself\u001b[39m) \u001b[38;5;241m-\u001b[39m\u001b[38;5;241m>\u001b[39m RenderFrame \u001b[38;5;241m|\u001b[39m \u001b[38;5;28mlist\u001b[39m[RenderFrame] \u001b[38;5;241m|\u001b[39m \u001b[38;5;28;01mNone\u001b[39;00m:\n\u001b[1;32m    331\u001b[0m \u001b[38;5;250m    \u001b[39m\u001b[38;5;124;03m\"\"\"Uses the :meth:`render` of the :attr:`env` that can be overwritten to change the returned data.\"\"\"\u001b[39;00m\n\u001b[0;32m--> 332\u001b[0m     \u001b[38;5;28;01mreturn\u001b[39;00m \u001b[38;5;28;43mself\u001b[39;49m\u001b[38;5;241;43m.\u001b[39;49m\u001b[43menv\u001b[49m\u001b[38;5;241;43m.\u001b[39;49m\u001b[43mrender\u001b[49m\u001b[43m(\u001b[49m\u001b[43m)\u001b[49m\n",
            "File \u001b[0;32m~/anaconda3/envs/RL_course/lib/python3.9/site-packages/gymnasium/wrappers/common.py:409\u001b[0m, in \u001b[0;36mOrderEnforcing.render\u001b[0;34m(self)\u001b[0m\n\u001b[1;32m    404\u001b[0m \u001b[38;5;28;01mif\u001b[39;00m \u001b[38;5;129;01mnot\u001b[39;00m \u001b[38;5;28mself\u001b[39m\u001b[38;5;241m.\u001b[39m_disable_render_order_enforcing \u001b[38;5;129;01mand\u001b[39;00m \u001b[38;5;129;01mnot\u001b[39;00m \u001b[38;5;28mself\u001b[39m\u001b[38;5;241m.\u001b[39m_has_reset:\n\u001b[1;32m    405\u001b[0m     \u001b[38;5;28;01mraise\u001b[39;00m ResetNeeded(\n\u001b[1;32m    406\u001b[0m         \u001b[38;5;124m\"\u001b[39m\u001b[38;5;124mCannot call `env.render()` before calling `env.reset()`, if this is an intended action, \u001b[39m\u001b[38;5;124m\"\u001b[39m\n\u001b[1;32m    407\u001b[0m         \u001b[38;5;124m\"\u001b[39m\u001b[38;5;124mset `disable_render_order_enforcing=True` on the OrderEnforcer wrapper.\u001b[39m\u001b[38;5;124m\"\u001b[39m\n\u001b[1;32m    408\u001b[0m     )\n\u001b[0;32m--> 409\u001b[0m \u001b[38;5;28;01mreturn\u001b[39;00m \u001b[38;5;28;43msuper\u001b[39;49m\u001b[43m(\u001b[49m\u001b[43m)\u001b[49m\u001b[38;5;241;43m.\u001b[39;49m\u001b[43mrender\u001b[49m\u001b[43m(\u001b[49m\u001b[43m)\u001b[49m\n",
            "File \u001b[0;32m~/anaconda3/envs/RL_course/lib/python3.9/site-packages/gymnasium/core.py:332\u001b[0m, in \u001b[0;36mWrapper.render\u001b[0;34m(self)\u001b[0m\n\u001b[1;32m    330\u001b[0m \u001b[38;5;28;01mdef\u001b[39;00m\u001b[38;5;250m \u001b[39m\u001b[38;5;21mrender\u001b[39m(\u001b[38;5;28mself\u001b[39m) \u001b[38;5;241m-\u001b[39m\u001b[38;5;241m>\u001b[39m RenderFrame \u001b[38;5;241m|\u001b[39m \u001b[38;5;28mlist\u001b[39m[RenderFrame] \u001b[38;5;241m|\u001b[39m \u001b[38;5;28;01mNone\u001b[39;00m:\n\u001b[1;32m    331\u001b[0m \u001b[38;5;250m    \u001b[39m\u001b[38;5;124;03m\"\"\"Uses the :meth:`render` of the :attr:`env` that can be overwritten to change the returned data.\"\"\"\u001b[39;00m\n\u001b[0;32m--> 332\u001b[0m     \u001b[38;5;28;01mreturn\u001b[39;00m \u001b[38;5;28;43mself\u001b[39;49m\u001b[38;5;241;43m.\u001b[39;49m\u001b[43menv\u001b[49m\u001b[38;5;241;43m.\u001b[39;49m\u001b[43mrender\u001b[49m\u001b[43m(\u001b[49m\u001b[43m)\u001b[49m\n",
            "File \u001b[0;32m~/anaconda3/envs/RL_course/lib/python3.9/site-packages/gymnasium/wrappers/common.py:303\u001b[0m, in \u001b[0;36mPassiveEnvChecker.render\u001b[0;34m(self)\u001b[0m\n\u001b[1;32m    301\u001b[0m     \u001b[38;5;28;01mreturn\u001b[39;00m env_render_passive_checker(\u001b[38;5;28mself\u001b[39m\u001b[38;5;241m.\u001b[39menv)\n\u001b[1;32m    302\u001b[0m \u001b[38;5;28;01melse\u001b[39;00m:\n\u001b[0;32m--> 303\u001b[0m     \u001b[38;5;28;01mreturn\u001b[39;00m \u001b[38;5;28;43mself\u001b[39;49m\u001b[38;5;241;43m.\u001b[39;49m\u001b[43menv\u001b[49m\u001b[38;5;241;43m.\u001b[39;49m\u001b[43mrender\u001b[49m\u001b[43m(\u001b[49m\u001b[43m)\u001b[49m\n",
            "File \u001b[0;32m~/anaconda3/envs/RL_course/lib/python3.9/site-packages/gymnasium/envs/mujoco/mujoco_env.py:164\u001b[0m, in \u001b[0;36mMujocoEnv.render\u001b[0;34m(self)\u001b[0m\n\u001b[1;32m    160\u001b[0m \u001b[38;5;28;01mdef\u001b[39;00m\u001b[38;5;250m \u001b[39m\u001b[38;5;21mrender\u001b[39m(\u001b[38;5;28mself\u001b[39m):\n\u001b[1;32m    161\u001b[0m \u001b[38;5;250m    \u001b[39m\u001b[38;5;124;03m\"\"\"\u001b[39;00m\n\u001b[1;32m    162\u001b[0m \u001b[38;5;124;03m    Render a frame from the MuJoCo simulation as specified by the render_mode.\u001b[39;00m\n\u001b[1;32m    163\u001b[0m \u001b[38;5;124;03m    \"\"\"\u001b[39;00m\n\u001b[0;32m--> 164\u001b[0m     \u001b[38;5;28;01mreturn\u001b[39;00m \u001b[38;5;28;43mself\u001b[39;49m\u001b[38;5;241;43m.\u001b[39;49m\u001b[43mmujoco_renderer\u001b[49m\u001b[38;5;241;43m.\u001b[39;49m\u001b[43mrender\u001b[49m\u001b[43m(\u001b[49m\u001b[38;5;28;43mself\u001b[39;49m\u001b[38;5;241;43m.\u001b[39;49m\u001b[43mrender_mode\u001b[49m\u001b[43m)\u001b[49m\n",
            "File \u001b[0;32m~/anaconda3/envs/RL_course/lib/python3.9/site-packages/gymnasium/envs/mujoco/mujoco_rendering.py:706\u001b[0m, in \u001b[0;36mMujocoRenderer.render\u001b[0;34m(self, render_mode)\u001b[0m\n\u001b[1;32m    693\u001b[0m \u001b[38;5;28;01mdef\u001b[39;00m\u001b[38;5;250m \u001b[39m\u001b[38;5;21mrender\u001b[39m(\n\u001b[1;32m    694\u001b[0m     \u001b[38;5;28mself\u001b[39m,\n\u001b[1;32m    695\u001b[0m     render_mode: Optional[\u001b[38;5;28mstr\u001b[39m],\n\u001b[1;32m    696\u001b[0m ):\n\u001b[1;32m    697\u001b[0m \u001b[38;5;250m    \u001b[39m\u001b[38;5;124;03m\"\"\"Renders a frame of the simulation in a specific format and camera view.\u001b[39;00m\n\u001b[1;32m    698\u001b[0m \n\u001b[1;32m    699\u001b[0m \u001b[38;5;124;03m    Args:\u001b[39;00m\n\u001b[0;32m   (...)\u001b[0m\n\u001b[1;32m    703\u001b[0m \u001b[38;5;124;03m        If render_mode is \"rgb_array\" or \"depth_array\" it returns a numpy array in the specified format. \"human\" render mode does not return anything.\u001b[39;00m\n\u001b[1;32m    704\u001b[0m \u001b[38;5;124;03m    \"\"\"\u001b[39;00m\n\u001b[0;32m--> 706\u001b[0m     viewer \u001b[38;5;241m=\u001b[39m \u001b[38;5;28;43mself\u001b[39;49m\u001b[38;5;241;43m.\u001b[39;49m\u001b[43m_get_viewer\u001b[49m\u001b[43m(\u001b[49m\u001b[43mrender_mode\u001b[49m\u001b[38;5;241;43m=\u001b[39;49m\u001b[43mrender_mode\u001b[49m\u001b[43m)\u001b[49m\n\u001b[1;32m    708\u001b[0m     \u001b[38;5;28;01mif\u001b[39;00m render_mode \u001b[38;5;129;01min\u001b[39;00m [\u001b[38;5;124m\"\u001b[39m\u001b[38;5;124mrgb_array\u001b[39m\u001b[38;5;124m\"\u001b[39m, \u001b[38;5;124m\"\u001b[39m\u001b[38;5;124mdepth_array\u001b[39m\u001b[38;5;124m\"\u001b[39m]:\n\u001b[1;32m    709\u001b[0m         \u001b[38;5;28;01mreturn\u001b[39;00m viewer\u001b[38;5;241m.\u001b[39mrender(render_mode\u001b[38;5;241m=\u001b[39mrender_mode, camera_id\u001b[38;5;241m=\u001b[39m\u001b[38;5;28mself\u001b[39m\u001b[38;5;241m.\u001b[39mcamera_id)\n",
            "File \u001b[0;32m~/anaconda3/envs/RL_course/lib/python3.9/site-packages/gymnasium/envs/mujoco/mujoco_rendering.py:730\u001b[0m, in \u001b[0;36mMujocoRenderer._get_viewer\u001b[0;34m(self, render_mode)\u001b[0m\n\u001b[1;32m    721\u001b[0m     \u001b[38;5;28mself\u001b[39m\u001b[38;5;241m.\u001b[39mviewer \u001b[38;5;241m=\u001b[39m WindowViewer(\n\u001b[1;32m    722\u001b[0m         \u001b[38;5;28mself\u001b[39m\u001b[38;5;241m.\u001b[39mmodel,\n\u001b[1;32m    723\u001b[0m         \u001b[38;5;28mself\u001b[39m\u001b[38;5;241m.\u001b[39mdata,\n\u001b[0;32m   (...)\u001b[0m\n\u001b[1;32m    727\u001b[0m         \u001b[38;5;28mself\u001b[39m\u001b[38;5;241m.\u001b[39m_vopt,\n\u001b[1;32m    728\u001b[0m     )\n\u001b[1;32m    729\u001b[0m \u001b[38;5;28;01melif\u001b[39;00m render_mode \u001b[38;5;129;01min\u001b[39;00m {\u001b[38;5;124m\"\u001b[39m\u001b[38;5;124mrgb_array\u001b[39m\u001b[38;5;124m\"\u001b[39m, \u001b[38;5;124m\"\u001b[39m\u001b[38;5;124mdepth_array\u001b[39m\u001b[38;5;124m\"\u001b[39m}:\n\u001b[0;32m--> 730\u001b[0m     \u001b[38;5;28mself\u001b[39m\u001b[38;5;241m.\u001b[39mviewer \u001b[38;5;241m=\u001b[39m \u001b[43mOffScreenViewer\u001b[49m\u001b[43m(\u001b[49m\n\u001b[1;32m    731\u001b[0m \u001b[43m        \u001b[49m\u001b[38;5;28;43mself\u001b[39;49m\u001b[38;5;241;43m.\u001b[39;49m\u001b[43mmodel\u001b[49m\u001b[43m,\u001b[49m\n\u001b[1;32m    732\u001b[0m \u001b[43m        \u001b[49m\u001b[38;5;28;43mself\u001b[39;49m\u001b[38;5;241;43m.\u001b[39;49m\u001b[43mdata\u001b[49m\u001b[43m,\u001b[49m\n\u001b[1;32m    733\u001b[0m \u001b[43m        \u001b[49m\u001b[38;5;28;43mself\u001b[39;49m\u001b[38;5;241;43m.\u001b[39;49m\u001b[43mwidth\u001b[49m\u001b[43m,\u001b[49m\n\u001b[1;32m    734\u001b[0m \u001b[43m        \u001b[49m\u001b[38;5;28;43mself\u001b[39;49m\u001b[38;5;241;43m.\u001b[39;49m\u001b[43mheight\u001b[49m\u001b[43m,\u001b[49m\n\u001b[1;32m    735\u001b[0m \u001b[43m        \u001b[49m\u001b[38;5;28;43mself\u001b[39;49m\u001b[38;5;241;43m.\u001b[39;49m\u001b[43mmax_geom\u001b[49m\u001b[43m,\u001b[49m\n\u001b[1;32m    736\u001b[0m \u001b[43m        \u001b[49m\u001b[38;5;28;43mself\u001b[39;49m\u001b[38;5;241;43m.\u001b[39;49m\u001b[43m_vopt\u001b[49m\u001b[43m,\u001b[49m\n\u001b[1;32m    737\u001b[0m \u001b[43m    \u001b[49m\u001b[43m)\u001b[49m\n\u001b[1;32m    738\u001b[0m \u001b[38;5;28;01melse\u001b[39;00m:\n\u001b[1;32m    739\u001b[0m     \u001b[38;5;28;01mraise\u001b[39;00m \u001b[38;5;167;01mAttributeError\u001b[39;00m(\n\u001b[1;32m    740\u001b[0m         \u001b[38;5;124mf\u001b[39m\u001b[38;5;124m\"\u001b[39m\u001b[38;5;124mUnexpected mode: \u001b[39m\u001b[38;5;132;01m{\u001b[39;00mrender_mode\u001b[38;5;132;01m}\u001b[39;00m\u001b[38;5;124m, expected modes: human, rgb_array, or depth_array\u001b[39m\u001b[38;5;124m\"\u001b[39m\n\u001b[1;32m    741\u001b[0m     )\n",
            "File \u001b[0;32m~/anaconda3/envs/RL_course/lib/python3.9/site-packages/gymnasium/envs/mujoco/mujoco_rendering.py:155\u001b[0m, in \u001b[0;36mOffScreenViewer.__init__\u001b[0;34m(self, model, data, width, height, max_geom, visual_options)\u001b[0m\n\u001b[1;32m    143\u001b[0m \u001b[38;5;28;01mdef\u001b[39;00m\u001b[38;5;250m \u001b[39m\u001b[38;5;21m__init__\u001b[39m(\n\u001b[1;32m    144\u001b[0m     \u001b[38;5;28mself\u001b[39m,\n\u001b[1;32m    145\u001b[0m     model: \u001b[38;5;124m\"\u001b[39m\u001b[38;5;124mmujoco.MjMujoco\u001b[39m\u001b[38;5;124m\"\u001b[39m,\n\u001b[0;32m   (...)\u001b[0m\n\u001b[1;32m    151\u001b[0m ):\n\u001b[1;32m    152\u001b[0m     \u001b[38;5;66;03m# We must make GLContext before MjrContext\u001b[39;00m\n\u001b[1;32m    153\u001b[0m     \u001b[38;5;28mself\u001b[39m\u001b[38;5;241m.\u001b[39m_get_opengl_backend(width, height)\n\u001b[0;32m--> 155\u001b[0m     \u001b[38;5;28;43msuper\u001b[39;49m\u001b[43m(\u001b[49m\u001b[43m)\u001b[49m\u001b[38;5;241;43m.\u001b[39;49m\u001b[38;5;21;43m__init__\u001b[39;49m\u001b[43m(\u001b[49m\u001b[43mmodel\u001b[49m\u001b[43m,\u001b[49m\u001b[43m \u001b[49m\u001b[43mdata\u001b[49m\u001b[43m,\u001b[49m\u001b[43m \u001b[49m\u001b[43mwidth\u001b[49m\u001b[43m,\u001b[49m\u001b[43m \u001b[49m\u001b[43mheight\u001b[49m\u001b[43m,\u001b[49m\u001b[43m \u001b[49m\u001b[43mmax_geom\u001b[49m\u001b[43m,\u001b[49m\u001b[43m \u001b[49m\u001b[43mvisual_options\u001b[49m\u001b[43m)\u001b[49m\n\u001b[1;32m    157\u001b[0m     \u001b[38;5;28mself\u001b[39m\u001b[38;5;241m.\u001b[39m_init_camera()\n",
            "File \u001b[0;32m~/anaconda3/envs/RL_course/lib/python3.9/site-packages/gymnasium/envs/mujoco/mujoco_rendering.py:67\u001b[0m, in \u001b[0;36mBaseRender.__init__\u001b[0;34m(self, model, data, width, height, max_geom, visual_options)\u001b[0m\n\u001b[1;32m     64\u001b[0m \u001b[38;5;28mself\u001b[39m\u001b[38;5;241m.\u001b[39mmake_context_current()\n\u001b[1;32m     66\u001b[0m \u001b[38;5;66;03m# Keep in Mujoco Context\u001b[39;00m\n\u001b[0;32m---> 67\u001b[0m \u001b[38;5;28mself\u001b[39m\u001b[38;5;241m.\u001b[39mcon \u001b[38;5;241m=\u001b[39m \u001b[43mmujoco\u001b[49m\u001b[38;5;241;43m.\u001b[39;49m\u001b[43mMjrContext\u001b[49m\u001b[43m(\u001b[49m\u001b[38;5;28;43mself\u001b[39;49m\u001b[38;5;241;43m.\u001b[39;49m\u001b[43mmodel\u001b[49m\u001b[43m,\u001b[49m\u001b[43m \u001b[49m\u001b[43mmujoco\u001b[49m\u001b[38;5;241;43m.\u001b[39;49m\u001b[43mmjtFontScale\u001b[49m\u001b[38;5;241;43m.\u001b[39;49m\u001b[43mmjFONTSCALE_150\u001b[49m\u001b[43m)\u001b[49m\n\u001b[1;32m     69\u001b[0m \u001b[38;5;28mself\u001b[39m\u001b[38;5;241m.\u001b[39m_set_mujoco_buffer()\n",
            "\u001b[0;31mFatalError\u001b[0m: gladLoadGL error"
          ]
        }
      ],
      "source": [
        "import matplotlib.pyplot as plt\n",
        "\n",
        "env.reset()\n",
        "plt.imshow(env.render())"
      ]
    },
    {
      "cell_type": "code",
      "execution_count": 8,
      "metadata": {
        "id": "sYDYzBuHEM8M"
      },
      "outputs": [],
      "source": [
        "from gymnasium.vector import AsyncVectorEnv\n",
        "from gymnasium.wrappers.vector import (\n",
        "    NormalizeObservation,\n",
        "    NormalizeReward,\n",
        "    ClipReward,\n",
        "    RecordEpisodeStatistics,\n",
        ")\n",
        "\n",
        "\n",
        "def make_vec_env(num_envs, **kwargs):\n",
        "    \"\"\"Creates a vectorized Atari environment with preprocessing.\"\"\"\n",
        "\n",
        "    # Create a list of environment initialization functions\n",
        "    env_fns = [lambda: make_env(**kwargs) for i in range(num_envs)]\n",
        "    envs = AsyncVectorEnv(env_fns, shared_memory=True)\n",
        "    envs = RecordEpisodeStatistics(envs, buffer_length=100000)\n",
        "\n",
        "    # Use running statistics to scale observation\n",
        "    # To have zero mean and unit std\n",
        "    envs = NormalizeObservation(envs)\n",
        "\n",
        "    # Use running std to scale reward\n",
        "    envs = NormalizeReward(envs, gamma=0.99)\n",
        "\n",
        "    # Clip reward after normalization\n",
        "    envs = ClipReward(envs, min_reward=-10, max_reward=10)\n",
        "\n",
        "    return envs\n",
        "\n",
        "\n",
        "# Parameters\n",
        "n_envs = 2  # Number of parallel environments\n",
        "# Create the vectorized environment\n",
        "vec_env = make_vec_env(n_envs)"
      ]
    },
    {
      "cell_type": "code",
      "execution_count": 9,
      "metadata": {
        "id": "OwwLcUApNCV0"
      },
      "outputs": [],
      "source": [
        "# import tensorflow as tf\n",
        "import torch\n",
        "\n",
        "from torch import nn\n",
        "from torch.nn import functional as F\n",
        "import torch\n",
        "\n",
        "\n",
        "class PolicyModel(nn.Module):\n",
        "    def __init__(self, state_dim, action_dim):\n",
        "        super().__init__()\n",
        "        self.h = 64\n",
        "\n",
        "        self.policy_model = nn.Sequential(\n",
        "            nn.Linear(state_dim, self.h),\n",
        "            nn.Tanh(),\n",
        "            nn.Linear(self.h, self.h),\n",
        "            nn.Tanh(),\n",
        "            nn.Linear(self.h, 2 * action_dim)\n",
        "        )\n",
        "\n",
        "        self.value_model = nn.Sequential(\n",
        "            nn.Linear(state_dim, self.h),\n",
        "            nn.Tanh(),\n",
        "            nn.Linear(self.h, self.h),\n",
        "            nn.Tanh(),\n",
        "            nn.Linear(self.h, 1)\n",
        "        )\n",
        "\n",
        "    def get_policy(self, x):\n",
        "        result = self.policy_model(x)\n",
        "        mean, var = result.chunk(2, dim=-1)\n",
        "        return mean, F.softplus(var)\n",
        "\n",
        "    def get_value(self, x):\n",
        "        return self.value_model(x)\n",
        "\n",
        "    def forward(self, x):\n",
        "        policy = self.get_policy(x)\n",
        "        value = self.get_value(x)\n",
        "\n",
        "        return policy, value"
      ]
    },
    {
      "cell_type": "code",
      "execution_count": 10,
      "metadata": {
        "id": "C54tGZahXbSa"
      },
      "outputs": [],
      "source": [
        "from torch.distributions.multivariate_normal import MultivariateNormal\n",
        "\n",
        "\n",
        "class Policy:\n",
        "    def __init__(self, model):\n",
        "        self.model = model\n",
        "\n",
        "    def act(self, inputs, training=False):\n",
        "        # Free colab dont have enough cuda :(\n",
        "        inputs = torch.tensor(inputs, dtype=torch.float32, device=\"cpu\")\n",
        "\n",
        "        mean, var = self.model.get_policy(inputs)\n",
        "        cov_matrix = torch.diag_embed(var)\n",
        "        normal_distr = MultivariateNormal(mean, cov_matrix)\n",
        "\n",
        "        actions = normal_distr.sample()\n",
        "        log_probs = normal_distr.log_prob(actions)\n",
        "\n",
        "        values = self.model.get_value(inputs)\n",
        "\n",
        "        if training:\n",
        "            return {\"distribution\": normal_distr, \"values\": values.squeeze()}\n",
        "\n",
        "        return {\n",
        "            \"actions\": actions.cpu().numpy().squeeze(),\n",
        "            \"log_probs\": log_probs.detach().cpu().numpy().squeeze(),\n",
        "            \"values\": values.detach().cpu().numpy().squeeze(),\n",
        "        }"
      ]
    },
    {
      "cell_type": "code",
      "execution_count": 11,
      "metadata": {
        "id": "5LeiuohcNCV3"
      },
      "outputs": [],
      "source": [
        "class AsArray:\n",
        "    \"\"\"\n",
        "    Converts lists of interactions to ndarray.\n",
        "    \"\"\"\n",
        "\n",
        "    def __call__(self, trajectory):\n",
        "        # Modify trajectory inplace.\n",
        "        for k, v in filter(lambda kv: kv[0] != \"state\", trajectory.items()):\n",
        "            trajectory[k] = np.asarray(v)"
      ]
    },
    {
      "cell_type": "code",
      "execution_count": 12,
      "metadata": {
        "id": "S9pQeFux48Qy"
      },
      "outputs": [],
      "source": [
        "\"\"\" RL env runner \"\"\"\n",
        "\n",
        "from collections import defaultdict\n",
        "\n",
        "import numpy as np\n",
        "\n",
        "\n",
        "class EnvRunner:\n",
        "    \"\"\"Reinforcement learning runner in an environment with given policy\"\"\"\n",
        "\n",
        "    def __init__(self, env, policy, rollout_length, transforms=None, step_var=None):\n",
        "        self.env = env\n",
        "        self.policy = policy\n",
        "        self.rollout_length = rollout_length\n",
        "        self.transforms = transforms or []\n",
        "        self.step_var = step_var if step_var is not None else 0\n",
        "        self.state = {\"latest_observation\": self.env.reset()[0]}\n",
        "\n",
        "    @property\n",
        "    def num_envs(self):\n",
        "        \"\"\"Returns number of batched envs or `None` if env is not batched\"\"\"\n",
        "        return getattr(self.env, \"num_envs\", None)\n",
        "\n",
        "    def reset(self, **kwargs):\n",
        "        \"\"\"Resets env and runner states.\"\"\"\n",
        "        self.state[\"latest_observation\"], info = self.env.reset(**kwargs)\n",
        "        self.policy.reset()\n",
        "\n",
        "    def get_next(self):\n",
        "        \"\"\"Runs the agent in the environment.\"\"\"\n",
        "        trajectory = defaultdict(list, {\"actions\": []})\n",
        "        observations = []\n",
        "        rewards = []\n",
        "        resets = []\n",
        "        self.state[\"env_steps\"] = self.rollout_length\n",
        "\n",
        "        for i in range(self.rollout_length):\n",
        "            observations.append(self.state[\"latest_observation\"])\n",
        "            act = self.policy.act(self.state[\"latest_observation\"])\n",
        "            if \"actions\" not in act:\n",
        "                raise ValueError(\n",
        "                    \"result of policy.act must contain 'actions' \"\n",
        "                    f\"but has keys {list(act.keys())}\"\n",
        "                )\n",
        "            for key, val in act.items():\n",
        "                trajectory[key].append(val)\n",
        "\n",
        "            obs, rew, terminated, truncated, _ = self.env.step(\n",
        "                trajectory[\"actions\"][-1]\n",
        "            )\n",
        "            done = np.logical_or(terminated, truncated)\n",
        "            self.state[\"latest_observation\"] = obs\n",
        "            rewards.append(rew)\n",
        "            resets.append(done)\n",
        "            self.step_var += self.num_envs or 1\n",
        "\n",
        "            # Only reset if the env is not batched. Batched envs should\n",
        "            # auto-reset.\n",
        "            if not self.num_envs and np.all(done):\n",
        "                self.state[\"env_steps\"] = i + 1\n",
        "                self.state[\"latest_observation\"] = self.env.reset()[0]\n",
        "\n",
        "        trajectory.update(observations=observations, rewards=rewards, resets=resets)\n",
        "        trajectory[\"state\"] = self.state\n",
        "\n",
        "        for transform in self.transforms:\n",
        "            transform(trajectory)\n",
        "        return trajectory"
      ]
    },
    {
      "cell_type": "code",
      "execution_count": 14,
      "metadata": {
        "id": "AC5rUuiKNCV6"
      },
      "outputs": [],
      "source": [
        "class GAE:\n",
        "    \"\"\"Generalized Advantage Estimator.\"\"\"\n",
        "\n",
        "    def __init__(self, policy, gamma=0.99, lambda_=0.95):\n",
        "        self.policy = policy\n",
        "        self.gamma = gamma\n",
        "        self.lambda_ = lambda_\n",
        "\n",
        "    def __call__(self, trajectory):\n",
        "        gamma = self.gamma\n",
        "        lambda_ = self.lambda_\n",
        "\n",
        "        # GAE results\n",
        "        trajectory['advantages'] = []\n",
        "        trajectory['value_targets'] = []\n",
        "\n",
        "        r = trajectory['rewards']\n",
        "        resets = trajectory['resets'] # check terminal state\n",
        "\n",
        "        V_pi = list(trajectory[\"values\"])\n",
        "        latest_observation_act_results = self.policy.act(trajectory['state']['latest_observation'])\n",
        "        V_pi.append(latest_observation_act_results['values'])\n",
        "\n",
        "        # Compute advantages in reverse -> no need to recalc the sum on each iter\n",
        "        advantage = 0.0\n",
        "        for l in reversed(range(len(V_pi) - 1)):\n",
        "            delta_t = r[l] + gamma * V_pi[l + 1] * ~resets[l] - V_pi[l]\n",
        "\n",
        "            # Recalc advantage for next t\n",
        "            advantage = advantage * gamma * lambda_ * ~resets[l]\n",
        "            advantage += delta_t\n",
        "\n",
        "            value_target = advantage + V_pi[l]\n",
        "\n",
        "            trajectory['advantages'].append(advantage)\n",
        "            trajectory['value_targets'].append(value_target)\n",
        "\n",
        "        # Reverse calculated advantages\n",
        "        trajectory['advantages'] = np.array(trajectory['advantages'][::-1])\n",
        "        trajectory['value_targets'] = np.array(trajectory['value_targets'][::-1])"
      ]
    },
    {
      "cell_type": "markdown",
      "metadata": {
        "id": "zkDCek2p-OpZ"
      },
      "source": [
        "**Test GAE**"
      ]
    },
    {
      "cell_type": "code",
      "execution_count": 15,
      "metadata": {
        "colab": {
          "base_uri": "https://localhost:8080/"
        },
        "id": "MBMP47qk978g",
        "outputId": "a2c85d2a-7a5f-4829-dab4-de3028f34d00"
      },
      "outputs": [],
      "source": [
        "# !curl -O https://raw.githubusercontent.com/yandexdataschool/Practical_RL/master/week09_policy_II/test_ppo/actions.npy\n",
        "# !curl -O https://raw.githubusercontent.com/yandexdataschool/Practical_RL/master/week09_policy_II/test_ppo/log_probs.npy\n",
        "# !curl -O https://raw.githubusercontent.com/yandexdataschool/Practical_RL/master/week09_policy_II/test_ppo/values.npy\n",
        "# !curl -O https://raw.githubusercontent.com/yandexdataschool/Practical_RL/master/week09_policy_II/test_ppo/observations.npy\n",
        "# !curl -O https://raw.githubusercontent.com/yandexdataschool/Practical_RL/master/week09_policy_II/test_ppo/rewards.npy\n",
        "# !curl -O https://raw.githubusercontent.com/yandexdataschool/Practical_RL/master/week09_policy_II/test_ppo/resets.npy\n",
        "# !curl -O https://raw.githubusercontent.com/yandexdataschool/Practical_RL/master/week09_policy_II/test_ppo/state.npy\n",
        "# !curl -O https://raw.githubusercontent.com/yandexdataschool/Practical_RL/master/week09_policy_II/test_ppo/advantages.npy\n",
        "# !curl -O https://raw.githubusercontent.com/yandexdataschool/Practical_RL/master/week09_policy_II/test_ppo/value_targets.npy\n",
        "# !curl -O https://raw.githubusercontent.com/yandexdataschool/Practical_RL/master/week09_policy_II/test_ppo/policy"
      ]
    },
    {
      "cell_type": "code",
      "execution_count": 21,
      "metadata": {
        "colab": {
          "base_uri": "https://localhost:8080/"
        },
        "id": "gnzN1lr248Qy",
        "outputId": "33e41982-e380-4a28-e42a-637bcef76723"
      },
      "outputs": [
        {
          "name": "stdout",
          "output_type": "stream",
          "text": [
            "All passed\n"
          ]
        }
      ],
      "source": [
        "def test_gae():\n",
        "    trajectory = {}\n",
        "    for key in [\"actions\", \"log_probs\", \"values\", \"observations\", \"rewards\", \"resets\"]:\n",
        "        trajectory[key] = np.load(f\"{key}.npy\", allow_pickle=True)\n",
        "    trajectory[\"state\"] = {\"latest_observation\": np.array([np.load(\"state.npy\")])}\n",
        "\n",
        "    policy = torch.load(f\"policy\", weights_only=False)\n",
        "    policy.model = policy.model.cpu() # Free colab dont have cuda :(\n",
        "    gae_to_test = GAE(policy, gamma=0.99, lambda_=0.95)\n",
        "\n",
        "    gae_to_test(trajectory)\n",
        "\n",
        "    for key in [\"advantages\", \"value_targets\"]:\n",
        "        expected = np.load(f\"{key}.npy\")\n",
        "        generated = trajectory[key]\n",
        "        assert np.allclose(expected.ravel(), generated.ravel(), atol=2e-2), key\n",
        "\n",
        "    print(\"All passed\")\n",
        "\n",
        "\n",
        "test_gae()"
      ]
    },
    {
      "cell_type": "code",
      "execution_count": 22,
      "metadata": {
        "id": "J7tIjwbkNCV8"
      },
      "outputs": [],
      "source": [
        "def flatten_first_two_dims(arr):\n",
        "    if arr.ndim == 2:\n",
        "        return arr.reshape(-1)\n",
        "    return arr.reshape(arr.shape[0] * arr.shape[1], *arr.shape[2:])\n",
        "\n",
        "\n",
        "class TrajectorySampler:\n",
        "    \"\"\"Samples minibatches from trajectory for a number of epochs.\"\"\"\n",
        "\n",
        "    def __init__(self, runner, num_epochs, num_minibatches, transforms=None):\n",
        "        self.runner = runner\n",
        "        self.num_epochs = num_epochs\n",
        "        self.num_minibatches = num_minibatches\n",
        "        self.transforms = transforms or []\n",
        "        self.minibatch_count = 0\n",
        "        self.epoch_count = 0\n",
        "        self.trajectory = None\n",
        "\n",
        "    def shuffle_trajectory(self):\n",
        "        \"\"\"Shuffles all elements in trajectory.\n",
        "\n",
        "        Should be called at the beginning of each epoch.\n",
        "        \"\"\"\n",
        "        trajectory_len = len(self.trajectory[\"observations\"])\n",
        "\n",
        "        permutation = np.random.permutation(trajectory_len)\n",
        "        for key, value in self.trajectory.items():\n",
        "            if key != \"state\":\n",
        "                self.trajectory[key] = value[permutation]\n",
        "\n",
        "    def squeeze_trajectory(self):\n",
        "        for key, value in self.trajectory.items():\n",
        "            if key != \"state\":\n",
        "                self.trajectory[key] = flatten_first_two_dims(value)\n",
        "\n",
        "    def get_trajectory(self):\n",
        "        self.trajectory = self.runner.get_next()\n",
        "        self.squeeze_trajectory()\n",
        "\n",
        "    def get_next(self):\n",
        "        \"\"\"Returns next minibatch.\"\"\"\n",
        "        if not self.trajectory:\n",
        "            self.get_trajectory()\n",
        "\n",
        "        if self.minibatch_count == self.num_minibatches:\n",
        "            self.shuffle_trajectory()\n",
        "            self.minibatch_count = 0\n",
        "            self.epoch_count += 1\n",
        "\n",
        "        if self.epoch_count == self.num_epochs:\n",
        "            self.get_trajectory()\n",
        "            self.shuffle_trajectory()\n",
        "            self.minibatch_count = 0\n",
        "            self.epoch_count = 0\n",
        "\n",
        "        trajectory_len = self.trajectory[\"observations\"].shape[0]\n",
        "\n",
        "        batch_size = trajectory_len // self.num_minibatches\n",
        "\n",
        "        minibatch = {}\n",
        "        for key, value in self.trajectory.items():\n",
        "            if key != \"state\":\n",
        "                minibatch[key] = value[\n",
        "                    self.minibatch_count\n",
        "                    * batch_size : (self.minibatch_count + 1)\n",
        "                    * batch_size\n",
        "                ]\n",
        "\n",
        "        self.minibatch_count += 1\n",
        "\n",
        "        for transform in self.transforms:\n",
        "            transform(minibatch)\n",
        "\n",
        "        return minibatch"
      ]
    },
    {
      "cell_type": "code",
      "execution_count": 23,
      "metadata": {
        "id": "GZrUlmFYNCV9"
      },
      "outputs": [],
      "source": [
        "class NormalizeAdvantages:\n",
        "    \"\"\"Normalizes advantages to have zero mean and unit std.\"\"\"\n",
        "\n",
        "    def __call__(self, trajectory):\n",
        "        advantages = trajectory[\"advantages\"]\n",
        "\n",
        "        mean = advantages.mean()\n",
        "        std = advantages.std()\n",
        "\n",
        "        trajectory[\"advantages\"] = (advantages - mean) / std"
      ]
    },
    {
      "cell_type": "code",
      "execution_count": 24,
      "metadata": {
        "id": "tx0Yr0GtNCV_"
      },
      "outputs": [],
      "source": [
        "def make_ppo_sampler(\n",
        "    env,\n",
        "    policy,\n",
        "    num_runner_steps=2048,\n",
        "    gamma=0.99,\n",
        "    lambda_=0.95,\n",
        "    num_epochs=10,\n",
        "    num_minibatches=32,\n",
        "):\n",
        "    \"\"\"Creates runner for PPO algorithm.\"\"\"\n",
        "    runner_transforms = [AsArray(), GAE(policy, gamma=gamma, lambda_=lambda_)]\n",
        "    runner = EnvRunner(env, policy, num_runner_steps, transforms=runner_transforms)\n",
        "\n",
        "    sampler_transforms = [NormalizeAdvantages()]\n",
        "    sampler = TrajectorySampler(\n",
        "        runner,\n",
        "        num_epochs=num_epochs,\n",
        "        num_minibatches=num_minibatches,\n",
        "        transforms=sampler_transforms,\n",
        "    )\n",
        "    return sampler"
      ]
    },
    {
      "cell_type": "markdown",
      "metadata": {
        "id": "MX1aZueWNCWA"
      },
      "source": [
        "In the next cell you will need to implement Proximal Policy Optimization algorithm itself. The algorithm\n",
        "modifies the typical policy gradient loss in the following way:\n",
        "\n",
        "$$\n",
        "J_{\\pi}(s, a) = \\frac{\\pi_\\theta(a|s)}{\\pi_\\theta^{\\text{old}}(a|s)} \\cdot A^{\\mathrm{GAE}(\\gamma,\\lambda)}(s, a)\n",
        "$$\n",
        "\n",
        "$$\n",
        "J_{\\pi}^{\\text{clipped}}(s, a) = \\mathrm{clip}\\left(\n",
        "\\frac{\\pi_\\theta(a|s)}{\\pi_{\\theta^{\\text{old}}}(a|s)},\n",
        "1 - \\text{cliprange}, 1 + \\text{cliprange}\\right)\\cdot A^{\\mathrm{GAE(\\gamma, \\lambda)}}(s, a)\\\\\n",
        "$$\n",
        "\n",
        "$$\n",
        "L_{\\text{policy}} = -\\frac{1}{T}\\sum_{t=0}^{T-1}\\min\\left(J_\\pi(s_{t}, a_{t}), J_{\\pi}^{\\text{clipped}}(s_{t}, a_{t})\\right).\n",
        "$$\n",
        "\n",
        "The value loss is also modified:\n",
        "\n",
        "$$\n",
        "L_{V}^{\\text{clipped}} = \\frac{1}{T}\\sum_{t=0}^{T-1} \\max(l^{simple}(s_{t}), l^{clipped}(s_{t}))\n",
        "$$\n",
        ", where $l^{simple}$ is your standard critic loss\n",
        "$$\n",
        "l^{simple}(s_{t}) = [V_\\theta(s_{t}) - \\hat{V}(s_{t})]^2\n",
        "$$\n",
        "\n",
        "and $l^{clipped}$ is a clipped version that limits large changes of the value function:\n",
        "$$\n",
        "l^{clipped}(s_{t}) = [\n",
        "V_{\\theta^{\\text{old}}}(s_{t}) +\n",
        "\\text{clip}\\left(\n",
        "V_\\theta(s_{t}) - V_{\\theta^\\text{old}}(s_{t}),\n",
        "-\\text{cliprange}, \\text{cliprange}\n",
        "\\right) - \\hat{V}(s_{t})] ^ 2\n",
        "$$"
      ]
    },
    {
      "cell_type": "code",
      "execution_count": 25,
      "metadata": {
        "id": "JYGV4EmxNCWB"
      },
      "outputs": [],
      "source": [
        "class PPO:\n",
        "    def __init__(\n",
        "        self, policy, optimizer, cliprange=0.2, value_loss_coef=0.25, max_grad_norm=0.5\n",
        "    ):\n",
        "        self.policy = policy\n",
        "        self.optimizer = optimizer\n",
        "        self.cliprange = cliprange\n",
        "        self.value_loss_coef = value_loss_coef\n",
        "        # Note that we don't need entropy regularization for this env.\n",
        "        self.max_grad_norm = max_grad_norm\n",
        "\n",
        "    def policy_loss(self, trajectory, act):\n",
        "        \"\"\"Computes and returns policy loss on a given trajectory.\"\"\"\n",
        "        advantages, actions, distr = torch.tensor(trajectory[\"advantages\"]), torch.tensor(trajectory[\"actions\"]), act[\"distribution\"]\n",
        "\n",
        "        old_log_probs = torch.tensor(trajectory[\"log_probs\"])\n",
        "        new_log_probs = distr.log_prob(actions)\n",
        "\n",
        "        probs_coeff = torch.exp(new_log_probs - old_log_probs)\n",
        "\n",
        "        J = probs_coeff * advantages\n",
        "        J_clipped = torch.clamp(probs_coeff, 1 - self.cliprange, 1 + self.cliprange) * advantages\n",
        "\n",
        "        return -torch.mean(torch.min(J, J_clipped))\n",
        "\n",
        "    def value_loss(self, trajectory, act):\n",
        "        \"\"\"Computes and returns value loss on a given trajectory.\"\"\"\n",
        "        V, V_old, V_target = act['values'], torch.tensor(trajectory['values']), torch.tensor(trajectory[\"value_targets\"])\n",
        "\n",
        "        l_simple = (V - V_target) ** 2\n",
        "        l_clipped = (V_old + torch.clamp(V - V_old, -self.cliprange, self.cliprange) - V_target) ** 2\n",
        "\n",
        "        return torch.mean(torch.max(l_simple, l_clipped))\n",
        "\n",
        "    def loss(self, trajectory):\n",
        "        act = self.policy.act(trajectory[\"observations\"], training=True)\n",
        "\n",
        "        policy_loss_value = self.policy_loss(trajectory, act)\n",
        "        value_loss_value = self.value_loss(trajectory, act)\n",
        "\n",
        "        total_loss = policy_loss_value + self.value_loss_coef * value_loss_value\n",
        "        return total_loss\n",
        "\n",
        "    def step(self, trajectory):\n",
        "        \"\"\"Computes the loss function and performs a single gradient step.\"\"\"\n",
        "        self.optimizer.zero_grad()\n",
        "\n",
        "        loss = self.loss(trajectory).backward()\n",
        "        nn.utils.clip_grad_norm_(self.policy.model.parameters(), self.max_grad_norm)\n",
        "\n",
        "        self.optimizer.step()"
      ]
    },
    {
      "cell_type": "code",
      "execution_count": 26,
      "metadata": {},
      "outputs": [],
      "source": [
        "import torch\n",
        "import torch.nn as nn\n",
        "import copy\n",
        "\n",
        "class DecoupledPPO:\n",
        "    def __init__(self, policy, optimizer, cliprange=0.2, value_loss_coef=0.5,\n",
        "                 max_grad_norm=0.5, beta_ewma=0.99):\n",
        "        \"\"\"\n",
        "        policy: your main (live) policy model (nn.Module).\n",
        "        lr, cliprange, etc.: typical PPO hyperparams.\n",
        "        beta_ewma: decay rate for the EWMA “proximal policy”.\n",
        "        \"\"\"\n",
        "        self.policy = policy  # pi_behav = pi_theta\n",
        "        self.cliprange = cliprange\n",
        "        self.value_loss_coef = value_loss_coef\n",
        "        self.max_grad_norm = max_grad_norm\n",
        "        self.optimizer = optimizer\n",
        "\n",
        "        self.policy_prox = copy.deepcopy(policy) # pi_proxy\n",
        "        for p in self.policy_prox.model.parameters():\n",
        "            p.requires_grad = False\n",
        "\n",
        "        self.beta_ewma = beta_ewma\n",
        "\n",
        "    def update_prox_policy(self):\n",
        "        with torch.no_grad():\n",
        "            for p_main, p_prox in zip(self.policy.model.parameters(),\n",
        "                                      self.policy_prox.model.parameters()):\n",
        "                p_prox.data.mul_(self.beta_ewma).add_(\n",
        "                    p_main.data, alpha=(1.0 - self.beta_ewma)\n",
        "                )\n",
        "\n",
        "    def policy_loss(self, trajectory, curr_act, proxy_act):\n",
        "        actions = torch.tensor(trajectory[\"actions\"])\n",
        "        advantages = torch.tensor(trajectory[\"advantages\"], dtype=torch.float)\n",
        "\n",
        "        current_distr = curr_act[\"distribution\"]\n",
        "        new_log_probs = current_distr.log_prob(actions)\n",
        "\n",
        "        with torch.no_grad():\n",
        "            prox_distr = proxy_act[\"distribution\"]\n",
        "            old_log_probs = prox_distr.log_prob(actions)\n",
        "\n",
        "        ratio = (new_log_probs - old_log_probs).exp()\n",
        "\n",
        "        # PPO clipping\n",
        "        ratio_clipped = torch.clamp(ratio, 1.0 - self.cliprange, 1.0 + self.cliprange)\n",
        "        policy_loss_ = -torch.mean(torch.min(ratio * advantages, ratio_clipped * advantages))\n",
        "\n",
        "        return policy_loss_\n",
        "\n",
        "    def value_loss(self, trajectory, curr_act, proxy_act):\n",
        "        \"\"\"\n",
        "        Value loss with clipping (optional).\n",
        "        We'll treat self.policy as having a .value(obs) that returns V(s).\n",
        "        \"\"\"\n",
        "        returns = torch.tensor(trajectory[\"value_targets\"], dtype=torch.float)\n",
        "\n",
        "        values = curr_act['values']\n",
        "        with torch.no_grad():\n",
        "            old_values = proxy_act['values']\n",
        "\n",
        "        unclipped_loss = (values - returns)**2\n",
        "        clipped_values = old_values + torch.clamp(values - old_values,\n",
        "                                                 -self.cliprange, self.cliprange)\n",
        "        clipped_loss = (clipped_values - returns)**2\n",
        "\n",
        "        value_loss_ = torch.mean(torch.max(unclipped_loss, clipped_loss))\n",
        "        return value_loss_\n",
        "\n",
        "    def loss(self, trajectory):\n",
        "        \"\"\"\n",
        "        Combine policy + value losses into total PPO loss.\n",
        "        \"\"\"\n",
        "        curr_act = self.policy.act(trajectory[\"observations\"], training=True)\n",
        "        with torch.no_grad():\n",
        "            prox_act = self.policy_prox.act(trajectory[\"observations\"], training=True)\n",
        "\n",
        "        p_loss = self.policy_loss(trajectory, curr_act, prox_act)\n",
        "        v_loss = self.value_loss(trajectory, curr_act, prox_act)\n",
        "        total = p_loss + self.value_loss_coef * v_loss\n",
        "        return total\n",
        "\n",
        "    def step(self, trajectory):\n",
        "        \"\"\"\n",
        "        A single PPO update using the decoupled objective.\n",
        "        Then update self.policy_prox with an EWMA.\n",
        "        \"\"\"\n",
        "        self.optimizer.zero_grad()\n",
        "        total_loss = self.loss(trajectory)\n",
        "        total_loss.backward()\n",
        "\n",
        "        # Clip gradients\n",
        "        nn.utils.clip_grad_norm_(self.policy.model.parameters(), self.max_grad_norm)\n",
        "        self.optimizer.step()\n",
        "\n",
        "        # Now update the proximal policy (EWMA)\n",
        "        self.update_prox_policy()\n",
        "\n",
        "        return total_loss.item()\n"
      ]
    },
    {
      "cell_type": "code",
      "execution_count": 27,
      "metadata": {},
      "outputs": [],
      "source": [
        "import math\n",
        "import torch\n",
        "\n",
        "def rescale_adam(optimizer: torch.optim.Optimizer, C: float):\n",
        "    for param_group in optimizer.param_groups:\n",
        "        if \"lr\" in param_group:\n",
        "            old_lr = param_group[\"lr\"]\n",
        "            new_lr = old_lr / math.sqrt(C)\n",
        "            param_group[\"lr\"] = new_lr\n",
        "\n",
        "        if \"betas\" in param_group:\n",
        "            old_betas = param_group[\"betas\"]  # (beta1, beta2)\n",
        "            beta1_rescaled = old_betas[0] ** (1.0 / C)\n",
        "            beta2_rescaled = old_betas[1] ** (1.0 / C)\n",
        "\n",
        "            # TODO: Maybe add clamp for small betas?\n",
        "            param_group[\"betas\"] = (beta1_rescaled, beta2_rescaled)"
      ]
    },
    {
      "cell_type": "code",
      "execution_count": 28,
      "metadata": {
        "id": "WmroaOHX33nZ"
      },
      "outputs": [],
      "source": [
        "state_dim = vec_env.single_observation_space.shape[0]\n",
        "action_dim = vec_env.single_action_space.shape[0]\n",
        "\n",
        "model = PolicyModel(state_dim, action_dim)\n",
        "model = model.cpu() # Free colab dont have cuda :(\n",
        "\n",
        "policy = Policy(model)\n",
        "\n",
        "num_envs = 2\n",
        "\n",
        "num_default_minibatches = 32\n",
        "num_minibatches = 8\n",
        "\n",
        "vec_env = make_vec_env(num_envs=num_envs)\n",
        "sampler = make_ppo_sampler(\n",
        "    vec_env,\n",
        "    policy,\n",
        "    num_minibatches=num_minibatches)\n",
        "\n",
        "optimizer = torch.optim.Adam(policy.model.parameters(), lr=3e-4, eps=1e-5)\n",
        "rescale_adam(optimizer=optimizer, C=num_default_minibatches / num_minibatches)\n",
        "n_iter = 250000\n",
        "\n",
        "lr_mult = lambda epoch: (1 - (epoch / n_iter))\n",
        "sched = torch.optim.lr_scheduler.LambdaLR(optimizer, lr_mult)\n",
        "\n",
        "ppo = DecoupledPPO(policy, optimizer)"
      ]
    },
    {
      "cell_type": "code",
      "execution_count": 29,
      "metadata": {
        "id": "Psvv8oru3POG"
      },
      "outputs": [],
      "source": [
        "from IPython.display import clear_output\n",
        "from matplotlib import pyplot as plt"
      ]
    },
    {
      "cell_type": "code",
      "execution_count": 30,
      "metadata": {
        "colab": {
          "base_uri": "https://localhost:8080/",
          "height": 822
        },
        "id": "2W5StJsb1mz2",
        "outputId": "cacd8781-88dd-42c3-d167-6bca152751aa"
      },
      "outputs": [
        {
          "data": {
            "image/png": "[encoded data removed]",
            "text/plain": [
              "<Figure size 640x480 with 1 Axes>"
            ]
          },
          "metadata": {},
          "output_type": "display_data"
        },
        {
          "name": "stderr",
          "output_type": "stream",
          "text": [
            "  6%|▋         | 15703/250000 [09:54<2:27:51, 26.41it/s]\n"
          ]
        },
        {
          "ename": "KeyboardInterrupt",
          "evalue": "",
          "output_type": "error",
          "traceback": [
            "\u001b[0;31m---------------------------------------------------------------------------\u001b[0m",
            "\u001b[0;31mKeyboardInterrupt\u001b[0m                         Traceback (most recent call last)",
            "Cell \u001b[0;32mIn[30], line 19\u001b[0m\n\u001b[1;32m     16\u001b[0m     plt\u001b[38;5;241m.\u001b[39mgrid()\n\u001b[1;32m     17\u001b[0m     plt\u001b[38;5;241m.\u001b[39mshow()\n\u001b[0;32m---> 19\u001b[0m \u001b[43mppo\u001b[49m\u001b[38;5;241;43m.\u001b[39;49m\u001b[43mstep\u001b[49m\u001b[43m(\u001b[49m\u001b[43mtrajectory\u001b[49m\u001b[43m)\u001b[49m\n\u001b[1;32m     20\u001b[0m sched\u001b[38;5;241m.\u001b[39mstep()\n",
            "Cell \u001b[0;32mIn[26], line 95\u001b[0m, in \u001b[0;36mDecoupledPPO.step\u001b[0;34m(self, trajectory)\u001b[0m\n\u001b[1;32m     93\u001b[0m \u001b[38;5;66;03m# Clip gradients\u001b[39;00m\n\u001b[1;32m     94\u001b[0m nn\u001b[38;5;241m.\u001b[39mutils\u001b[38;5;241m.\u001b[39mclip_grad_norm_(\u001b[38;5;28mself\u001b[39m\u001b[38;5;241m.\u001b[39mpolicy\u001b[38;5;241m.\u001b[39mmodel\u001b[38;5;241m.\u001b[39mparameters(), \u001b[38;5;28mself\u001b[39m\u001b[38;5;241m.\u001b[39mmax_grad_norm)\n\u001b[0;32m---> 95\u001b[0m \u001b[38;5;28;43mself\u001b[39;49m\u001b[38;5;241;43m.\u001b[39;49m\u001b[43moptimizer\u001b[49m\u001b[38;5;241;43m.\u001b[39;49m\u001b[43mstep\u001b[49m\u001b[43m(\u001b[49m\u001b[43m)\u001b[49m\n\u001b[1;32m     97\u001b[0m \u001b[38;5;66;03m# Now update the proximal policy (EWMA)\u001b[39;00m\n\u001b[1;32m     98\u001b[0m \u001b[38;5;28mself\u001b[39m\u001b[38;5;241m.\u001b[39mupdate_prox_policy()\n",
            "File \u001b[0;32m~/anaconda3/envs/RL_course/lib/python3.9/site-packages/torch/optim/lr_scheduler.py:140\u001b[0m, in \u001b[0;36mLRScheduler.__init__.<locals>.patch_track_step_called.<locals>.wrap_step.<locals>.wrapper\u001b[0;34m(*args, **kwargs)\u001b[0m\n\u001b[1;32m    138\u001b[0m opt \u001b[38;5;241m=\u001b[39m opt_ref()\n\u001b[1;32m    139\u001b[0m opt\u001b[38;5;241m.\u001b[39m_opt_called \u001b[38;5;241m=\u001b[39m \u001b[38;5;28;01mTrue\u001b[39;00m  \u001b[38;5;66;03m# type: ignore[union-attr]\u001b[39;00m\n\u001b[0;32m--> 140\u001b[0m \u001b[38;5;28;01mreturn\u001b[39;00m \u001b[43mfunc\u001b[49m\u001b[38;5;241;43m.\u001b[39;49m\u001b[38;5;21;43m__get__\u001b[39;49m\u001b[43m(\u001b[49m\u001b[43mopt\u001b[49m\u001b[43m,\u001b[49m\u001b[43m \u001b[49m\u001b[43mopt\u001b[49m\u001b[38;5;241;43m.\u001b[39;49m\u001b[38;5;18;43m__class__\u001b[39;49m\u001b[43m)\u001b[49m\u001b[43m(\u001b[49m\u001b[38;5;241;43m*\u001b[39;49m\u001b[43margs\u001b[49m\u001b[43m,\u001b[49m\u001b[43m \u001b[49m\u001b[38;5;241;43m*\u001b[39;49m\u001b[38;5;241;43m*\u001b[39;49m\u001b[43mkwargs\u001b[49m\u001b[43m)\u001b[49m\n",
            "File \u001b[0;32m~/anaconda3/envs/RL_course/lib/python3.9/site-packages/torch/optim/optimizer.py:493\u001b[0m, in \u001b[0;36mOptimizer.profile_hook_step.<locals>.wrapper\u001b[0;34m(*args, **kwargs)\u001b[0m\n\u001b[1;32m    488\u001b[0m         \u001b[38;5;28;01melse\u001b[39;00m:\n\u001b[1;32m    489\u001b[0m             \u001b[38;5;28;01mraise\u001b[39;00m \u001b[38;5;167;01mRuntimeError\u001b[39;00m(\n\u001b[1;32m    490\u001b[0m                 \u001b[38;5;124mf\u001b[39m\u001b[38;5;124m\"\u001b[39m\u001b[38;5;132;01m{\u001b[39;00mfunc\u001b[38;5;132;01m}\u001b[39;00m\u001b[38;5;124m must return None or a tuple of (new_args, new_kwargs), but got \u001b[39m\u001b[38;5;132;01m{\u001b[39;00mresult\u001b[38;5;132;01m}\u001b[39;00m\u001b[38;5;124m.\u001b[39m\u001b[38;5;124m\"\u001b[39m\n\u001b[1;32m    491\u001b[0m             )\n\u001b[0;32m--> 493\u001b[0m out \u001b[38;5;241m=\u001b[39m \u001b[43mfunc\u001b[49m\u001b[43m(\u001b[49m\u001b[38;5;241;43m*\u001b[39;49m\u001b[43margs\u001b[49m\u001b[43m,\u001b[49m\u001b[43m \u001b[49m\u001b[38;5;241;43m*\u001b[39;49m\u001b[38;5;241;43m*\u001b[39;49m\u001b[43mkwargs\u001b[49m\u001b[43m)\u001b[49m\n\u001b[1;32m    494\u001b[0m \u001b[38;5;28mself\u001b[39m\u001b[38;5;241m.\u001b[39m_optimizer_step_code()\n\u001b[1;32m    496\u001b[0m \u001b[38;5;66;03m# call optimizer step post hooks\u001b[39;00m\n",
            "File \u001b[0;32m~/anaconda3/envs/RL_course/lib/python3.9/site-packages/torch/optim/optimizer.py:91\u001b[0m, in \u001b[0;36m_use_grad_for_differentiable.<locals>._use_grad\u001b[0;34m(self, *args, **kwargs)\u001b[0m\n\u001b[1;32m     89\u001b[0m     torch\u001b[38;5;241m.\u001b[39mset_grad_enabled(\u001b[38;5;28mself\u001b[39m\u001b[38;5;241m.\u001b[39mdefaults[\u001b[38;5;124m\"\u001b[39m\u001b[38;5;124mdifferentiable\u001b[39m\u001b[38;5;124m\"\u001b[39m])\n\u001b[1;32m     90\u001b[0m     torch\u001b[38;5;241m.\u001b[39m_dynamo\u001b[38;5;241m.\u001b[39mgraph_break()\n\u001b[0;32m---> 91\u001b[0m     ret \u001b[38;5;241m=\u001b[39m \u001b[43mfunc\u001b[49m\u001b[43m(\u001b[49m\u001b[38;5;28;43mself\u001b[39;49m\u001b[43m,\u001b[49m\u001b[43m \u001b[49m\u001b[38;5;241;43m*\u001b[39;49m\u001b[43margs\u001b[49m\u001b[43m,\u001b[49m\u001b[43m \u001b[49m\u001b[38;5;241;43m*\u001b[39;49m\u001b[38;5;241;43m*\u001b[39;49m\u001b[43mkwargs\u001b[49m\u001b[43m)\u001b[49m\n\u001b[1;32m     92\u001b[0m \u001b[38;5;28;01mfinally\u001b[39;00m:\n\u001b[1;32m     93\u001b[0m     torch\u001b[38;5;241m.\u001b[39m_dynamo\u001b[38;5;241m.\u001b[39mgraph_break()\n",
            "File \u001b[0;32m~/anaconda3/envs/RL_course/lib/python3.9/site-packages/torch/optim/adam.py:244\u001b[0m, in \u001b[0;36mAdam.step\u001b[0;34m(self, closure)\u001b[0m\n\u001b[1;32m    232\u001b[0m     beta1, beta2 \u001b[38;5;241m=\u001b[39m group[\u001b[38;5;124m\"\u001b[39m\u001b[38;5;124mbetas\u001b[39m\u001b[38;5;124m\"\u001b[39m]\n\u001b[1;32m    234\u001b[0m     has_complex \u001b[38;5;241m=\u001b[39m \u001b[38;5;28mself\u001b[39m\u001b[38;5;241m.\u001b[39m_init_group(\n\u001b[1;32m    235\u001b[0m         group,\n\u001b[1;32m    236\u001b[0m         params_with_grad,\n\u001b[0;32m   (...)\u001b[0m\n\u001b[1;32m    241\u001b[0m         state_steps,\n\u001b[1;32m    242\u001b[0m     )\n\u001b[0;32m--> 244\u001b[0m     \u001b[43madam\u001b[49m\u001b[43m(\u001b[49m\n\u001b[1;32m    245\u001b[0m \u001b[43m        \u001b[49m\u001b[43mparams_with_grad\u001b[49m\u001b[43m,\u001b[49m\n\u001b[1;32m    246\u001b[0m \u001b[43m        \u001b[49m\u001b[43mgrads\u001b[49m\u001b[43m,\u001b[49m\n\u001b[1;32m    247\u001b[0m \u001b[43m        \u001b[49m\u001b[43mexp_avgs\u001b[49m\u001b[43m,\u001b[49m\n\u001b[1;32m    248\u001b[0m \u001b[43m        \u001b[49m\u001b[43mexp_avg_sqs\u001b[49m\u001b[43m,\u001b[49m\n\u001b[1;32m    249\u001b[0m \u001b[43m        \u001b[49m\u001b[43mmax_exp_avg_sqs\u001b[49m\u001b[43m,\u001b[49m\n\u001b[1;32m    250\u001b[0m \u001b[43m        \u001b[49m\u001b[43mstate_steps\u001b[49m\u001b[43m,\u001b[49m\n\u001b[1;32m    251\u001b[0m \u001b[43m        \u001b[49m\u001b[43mamsgrad\u001b[49m\u001b[38;5;241;43m=\u001b[39;49m\u001b[43mgroup\u001b[49m\u001b[43m[\u001b[49m\u001b[38;5;124;43m\"\u001b[39;49m\u001b[38;5;124;43mamsgrad\u001b[39;49m\u001b[38;5;124;43m\"\u001b[39;49m\u001b[43m]\u001b[49m\u001b[43m,\u001b[49m\n\u001b[1;32m    252\u001b[0m \u001b[43m        \u001b[49m\u001b[43mhas_complex\u001b[49m\u001b[38;5;241;43m=\u001b[39;49m\u001b[43mhas_complex\u001b[49m\u001b[43m,\u001b[49m\n\u001b[1;32m    253\u001b[0m \u001b[43m        \u001b[49m\u001b[43mbeta1\u001b[49m\u001b[38;5;241;43m=\u001b[39;49m\u001b[43mbeta1\u001b[49m\u001b[43m,\u001b[49m\n\u001b[1;32m    254\u001b[0m \u001b[43m        \u001b[49m\u001b[43mbeta2\u001b[49m\u001b[38;5;241;43m=\u001b[39;49m\u001b[43mbeta2\u001b[49m\u001b[43m,\u001b[49m\n\u001b[1;32m    255\u001b[0m \u001b[43m        \u001b[49m\u001b[43mlr\u001b[49m\u001b[38;5;241;43m=\u001b[39;49m\u001b[43mgroup\u001b[49m\u001b[43m[\u001b[49m\u001b[38;5;124;43m\"\u001b[39;49m\u001b[38;5;124;43mlr\u001b[39;49m\u001b[38;5;124;43m\"\u001b[39;49m\u001b[43m]\u001b[49m\u001b[43m,\u001b[49m\n\u001b[1;32m    256\u001b[0m \u001b[43m        \u001b[49m\u001b[43mweight_decay\u001b[49m\u001b[38;5;241;43m=\u001b[39;49m\u001b[43mgroup\u001b[49m\u001b[43m[\u001b[49m\u001b[38;5;124;43m\"\u001b[39;49m\u001b[38;5;124;43mweight_decay\u001b[39;49m\u001b[38;5;124;43m\"\u001b[39;49m\u001b[43m]\u001b[49m\u001b[43m,\u001b[49m\n\u001b[1;32m    257\u001b[0m \u001b[43m        \u001b[49m\u001b[43meps\u001b[49m\u001b[38;5;241;43m=\u001b[39;49m\u001b[43mgroup\u001b[49m\u001b[43m[\u001b[49m\u001b[38;5;124;43m\"\u001b[39;49m\u001b[38;5;124;43meps\u001b[39;49m\u001b[38;5;124;43m\"\u001b[39;49m\u001b[43m]\u001b[49m\u001b[43m,\u001b[49m\n\u001b[1;32m    258\u001b[0m \u001b[43m        \u001b[49m\u001b[43mmaximize\u001b[49m\u001b[38;5;241;43m=\u001b[39;49m\u001b[43mgroup\u001b[49m\u001b[43m[\u001b[49m\u001b[38;5;124;43m\"\u001b[39;49m\u001b[38;5;124;43mmaximize\u001b[39;49m\u001b[38;5;124;43m\"\u001b[39;49m\u001b[43m]\u001b[49m\u001b[43m,\u001b[49m\n\u001b[1;32m    259\u001b[0m \u001b[43m        \u001b[49m\u001b[43mforeach\u001b[49m\u001b[38;5;241;43m=\u001b[39;49m\u001b[43mgroup\u001b[49m\u001b[43m[\u001b[49m\u001b[38;5;124;43m\"\u001b[39;49m\u001b[38;5;124;43mforeach\u001b[39;49m\u001b[38;5;124;43m\"\u001b[39;49m\u001b[43m]\u001b[49m\u001b[43m,\u001b[49m\n\u001b[1;32m    260\u001b[0m \u001b[43m        \u001b[49m\u001b[43mcapturable\u001b[49m\u001b[38;5;241;43m=\u001b[39;49m\u001b[43mgroup\u001b[49m\u001b[43m[\u001b[49m\u001b[38;5;124;43m\"\u001b[39;49m\u001b[38;5;124;43mcapturable\u001b[39;49m\u001b[38;5;124;43m\"\u001b[39;49m\u001b[43m]\u001b[49m\u001b[43m,\u001b[49m\n\u001b[1;32m    261\u001b[0m \u001b[43m        \u001b[49m\u001b[43mdifferentiable\u001b[49m\u001b[38;5;241;43m=\u001b[39;49m\u001b[43mgroup\u001b[49m\u001b[43m[\u001b[49m\u001b[38;5;124;43m\"\u001b[39;49m\u001b[38;5;124;43mdifferentiable\u001b[39;49m\u001b[38;5;124;43m\"\u001b[39;49m\u001b[43m]\u001b[49m\u001b[43m,\u001b[49m\n\u001b[1;32m    262\u001b[0m \u001b[43m        \u001b[49m\u001b[43mfused\u001b[49m\u001b[38;5;241;43m=\u001b[39;49m\u001b[43mgroup\u001b[49m\u001b[43m[\u001b[49m\u001b[38;5;124;43m\"\u001b[39;49m\u001b[38;5;124;43mfused\u001b[39;49m\u001b[38;5;124;43m\"\u001b[39;49m\u001b[43m]\u001b[49m\u001b[43m,\u001b[49m\n\u001b[1;32m    263\u001b[0m \u001b[43m        \u001b[49m\u001b[43mgrad_scale\u001b[49m\u001b[38;5;241;43m=\u001b[39;49m\u001b[38;5;28;43mgetattr\u001b[39;49m\u001b[43m(\u001b[49m\u001b[38;5;28;43mself\u001b[39;49m\u001b[43m,\u001b[49m\u001b[43m \u001b[49m\u001b[38;5;124;43m\"\u001b[39;49m\u001b[38;5;124;43mgrad_scale\u001b[39;49m\u001b[38;5;124;43m\"\u001b[39;49m\u001b[43m,\u001b[49m\u001b[43m \u001b[49m\u001b[38;5;28;43;01mNone\u001b[39;49;00m\u001b[43m)\u001b[49m\u001b[43m,\u001b[49m\n\u001b[1;32m    264\u001b[0m \u001b[43m        \u001b[49m\u001b[43mfound_inf\u001b[49m\u001b[38;5;241;43m=\u001b[39;49m\u001b[38;5;28;43mgetattr\u001b[39;49m\u001b[43m(\u001b[49m\u001b[38;5;28;43mself\u001b[39;49m\u001b[43m,\u001b[49m\u001b[43m \u001b[49m\u001b[38;5;124;43m\"\u001b[39;49m\u001b[38;5;124;43mfound_inf\u001b[39;49m\u001b[38;5;124;43m\"\u001b[39;49m\u001b[43m,\u001b[49m\u001b[43m \u001b[49m\u001b[38;5;28;43;01mNone\u001b[39;49;00m\u001b[43m)\u001b[49m\u001b[43m,\u001b[49m\n\u001b[1;32m    265\u001b[0m \u001b[43m    \u001b[49m\u001b[43m)\u001b[49m\n\u001b[1;32m    267\u001b[0m \u001b[38;5;28;01mreturn\u001b[39;00m loss\n",
            "File \u001b[0;32m~/anaconda3/envs/RL_course/lib/python3.9/site-packages/torch/optim/optimizer.py:154\u001b[0m, in \u001b[0;36m_disable_dynamo_if_unsupported.<locals>.wrapper.<locals>.maybe_fallback\u001b[0;34m(*args, **kwargs)\u001b[0m\n\u001b[1;32m    152\u001b[0m     \u001b[38;5;28;01mreturn\u001b[39;00m disabled_func(\u001b[38;5;241m*\u001b[39margs, \u001b[38;5;241m*\u001b[39m\u001b[38;5;241m*\u001b[39mkwargs)\n\u001b[1;32m    153\u001b[0m \u001b[38;5;28;01melse\u001b[39;00m:\n\u001b[0;32m--> 154\u001b[0m     \u001b[38;5;28;01mreturn\u001b[39;00m \u001b[43mfunc\u001b[49m\u001b[43m(\u001b[49m\u001b[38;5;241;43m*\u001b[39;49m\u001b[43margs\u001b[49m\u001b[43m,\u001b[49m\u001b[43m \u001b[49m\u001b[38;5;241;43m*\u001b[39;49m\u001b[38;5;241;43m*\u001b[39;49m\u001b[43mkwargs\u001b[49m\u001b[43m)\u001b[49m\n",
            "File \u001b[0;32m~/anaconda3/envs/RL_course/lib/python3.9/site-packages/torch/optim/adam.py:876\u001b[0m, in \u001b[0;36madam\u001b[0;34m(params, grads, exp_avgs, exp_avg_sqs, max_exp_avg_sqs, state_steps, foreach, capturable, differentiable, fused, grad_scale, found_inf, has_complex, amsgrad, beta1, beta2, lr, weight_decay, eps, maximize)\u001b[0m\n\u001b[1;32m    873\u001b[0m \u001b[38;5;28;01melse\u001b[39;00m:\n\u001b[1;32m    874\u001b[0m     func \u001b[38;5;241m=\u001b[39m _single_tensor_adam\n\u001b[0;32m--> 876\u001b[0m \u001b[43mfunc\u001b[49m\u001b[43m(\u001b[49m\n\u001b[1;32m    877\u001b[0m \u001b[43m    \u001b[49m\u001b[43mparams\u001b[49m\u001b[43m,\u001b[49m\n\u001b[1;32m    878\u001b[0m \u001b[43m    \u001b[49m\u001b[43mgrads\u001b[49m\u001b[43m,\u001b[49m\n\u001b[1;32m    879\u001b[0m \u001b[43m    \u001b[49m\u001b[43mexp_avgs\u001b[49m\u001b[43m,\u001b[49m\n\u001b[1;32m    880\u001b[0m \u001b[43m    \u001b[49m\u001b[43mexp_avg_sqs\u001b[49m\u001b[43m,\u001b[49m\n\u001b[1;32m    881\u001b[0m \u001b[43m    \u001b[49m\u001b[43mmax_exp_avg_sqs\u001b[49m\u001b[43m,\u001b[49m\n\u001b[1;32m    882\u001b[0m \u001b[43m    \u001b[49m\u001b[43mstate_steps\u001b[49m\u001b[43m,\u001b[49m\n\u001b[1;32m    883\u001b[0m \u001b[43m    \u001b[49m\u001b[43mamsgrad\u001b[49m\u001b[38;5;241;43m=\u001b[39;49m\u001b[43mamsgrad\u001b[49m\u001b[43m,\u001b[49m\n\u001b[1;32m    884\u001b[0m \u001b[43m    \u001b[49m\u001b[43mhas_complex\u001b[49m\u001b[38;5;241;43m=\u001b[39;49m\u001b[43mhas_complex\u001b[49m\u001b[43m,\u001b[49m\n\u001b[1;32m    885\u001b[0m \u001b[43m    \u001b[49m\u001b[43mbeta1\u001b[49m\u001b[38;5;241;43m=\u001b[39;49m\u001b[43mbeta1\u001b[49m\u001b[43m,\u001b[49m\n\u001b[1;32m    886\u001b[0m \u001b[43m    \u001b[49m\u001b[43mbeta2\u001b[49m\u001b[38;5;241;43m=\u001b[39;49m\u001b[43mbeta2\u001b[49m\u001b[43m,\u001b[49m\n\u001b[1;32m    887\u001b[0m \u001b[43m    \u001b[49m\u001b[43mlr\u001b[49m\u001b[38;5;241;43m=\u001b[39;49m\u001b[43mlr\u001b[49m\u001b[43m,\u001b[49m\n\u001b[1;32m    888\u001b[0m \u001b[43m    \u001b[49m\u001b[43mweight_decay\u001b[49m\u001b[38;5;241;43m=\u001b[39;49m\u001b[43mweight_decay\u001b[49m\u001b[43m,\u001b[49m\n\u001b[1;32m    889\u001b[0m \u001b[43m    \u001b[49m\u001b[43meps\u001b[49m\u001b[38;5;241;43m=\u001b[39;49m\u001b[43meps\u001b[49m\u001b[43m,\u001b[49m\n\u001b[1;32m    890\u001b[0m \u001b[43m    \u001b[49m\u001b[43mmaximize\u001b[49m\u001b[38;5;241;43m=\u001b[39;49m\u001b[43mmaximize\u001b[49m\u001b[43m,\u001b[49m\n\u001b[1;32m    891\u001b[0m \u001b[43m    \u001b[49m\u001b[43mcapturable\u001b[49m\u001b[38;5;241;43m=\u001b[39;49m\u001b[43mcapturable\u001b[49m\u001b[43m,\u001b[49m\n\u001b[1;32m    892\u001b[0m \u001b[43m    \u001b[49m\u001b[43mdifferentiable\u001b[49m\u001b[38;5;241;43m=\u001b[39;49m\u001b[43mdifferentiable\u001b[49m\u001b[43m,\u001b[49m\n\u001b[1;32m    893\u001b[0m \u001b[43m    \u001b[49m\u001b[43mgrad_scale\u001b[49m\u001b[38;5;241;43m=\u001b[39;49m\u001b[43mgrad_scale\u001b[49m\u001b[43m,\u001b[49m\n\u001b[1;32m    894\u001b[0m \u001b[43m    \u001b[49m\u001b[43mfound_inf\u001b[49m\u001b[38;5;241;43m=\u001b[39;49m\u001b[43mfound_inf\u001b[49m\u001b[43m,\u001b[49m\n\u001b[1;32m    895\u001b[0m \u001b[43m\u001b[49m\u001b[43m)\u001b[49m\n",
            "File \u001b[0;32m~/anaconda3/envs/RL_course/lib/python3.9/site-packages/torch/optim/adam.py:476\u001b[0m, in \u001b[0;36m_single_tensor_adam\u001b[0;34m(params, grads, exp_avgs, exp_avg_sqs, max_exp_avg_sqs, state_steps, grad_scale, found_inf, amsgrad, has_complex, beta1, beta2, lr, weight_decay, eps, maximize, capturable, differentiable)\u001b[0m\n\u001b[1;32m    474\u001b[0m         denom \u001b[38;5;241m=\u001b[39m (max_exp_avg_sqs[i]\u001b[38;5;241m.\u001b[39msqrt() \u001b[38;5;241m/\u001b[39m bias_correction2_sqrt)\u001b[38;5;241m.\u001b[39madd_(eps)\n\u001b[1;32m    475\u001b[0m     \u001b[38;5;28;01melse\u001b[39;00m:\n\u001b[0;32m--> 476\u001b[0m         denom \u001b[38;5;241m=\u001b[39m (\u001b[43mexp_avg_sq\u001b[49m\u001b[38;5;241;43m.\u001b[39;49m\u001b[43msqrt\u001b[49m\u001b[43m(\u001b[49m\u001b[43m)\u001b[49m\u001b[43m \u001b[49m\u001b[38;5;241;43m/\u001b[39;49m\u001b[43m \u001b[49m\u001b[43mbias_correction2_sqrt\u001b[49m)\u001b[38;5;241m.\u001b[39madd_(eps)\n\u001b[1;32m    478\u001b[0m     param\u001b[38;5;241m.\u001b[39maddcdiv_(exp_avg, denom, value\u001b[38;5;241m=\u001b[39m\u001b[38;5;241m-\u001b[39mstep_size)\n\u001b[1;32m    480\u001b[0m \u001b[38;5;66;03m# Lastly, switch back to complex view\u001b[39;00m\n",
            "\u001b[0;31mKeyboardInterrupt\u001b[0m: "
          ]
        }
      ],
      "source": [
        "steps = []\n",
        "rewards = []\n",
        "\n",
        "for i in tqdm(range(n_iter)):\n",
        "    trajectory = sampler.get_next()\n",
        "\n",
        "    if (i + 1) % 100 == 0:\n",
        "        clear_output(True)\n",
        "        rewards.append(vec_env.env.env.env.return_queue[-1])\n",
        "        steps.append(sampler.runner.step_var)\n",
        "\n",
        "        plt.plot(steps, rewards, label=\"episode rewards\")\n",
        "        plt.title(\"Reward\")\n",
        "        plt.xlabel(\"Total steps\")\n",
        "        plt.ylabel(\"Reward\")\n",
        "        plt.grid()\n",
        "        plt.show()\n",
        "\n",
        "    ppo.step(trajectory)\n",
        "    sched.step()"
      ]
    },
    {
      "cell_type": "code",
      "execution_count": 31,
      "metadata": {},
      "outputs": [],
      "source": [
        "state_dim = vec_env.single_observation_space.shape[0]\n",
        "action_dim = vec_env.single_action_space.shape[0]\n",
        "\n",
        "model = PolicyModel(state_dim, action_dim)\n",
        "model = model.cpu() # Free colab dont have cuda :(\n",
        "\n",
        "policy = Policy(model)\n",
        "\n",
        "num_envs = 2\n",
        "\n",
        "num_default_minibatches = 8\n",
        "num_minibatches = 8\n",
        "\n",
        "vec_env = make_vec_env(num_envs=num_envs)\n",
        "sampler = make_ppo_sampler(\n",
        "    vec_env,\n",
        "    policy,\n",
        "    num_minibatches=num_minibatches)\n",
        "\n",
        "optimizer = torch.optim.Adam(policy.model.parameters(), lr=3e-4, eps=1e-5)\n",
        "rescale_adam(optimizer=optimizer, C=num_default_minibatches / num_minibatches)\n",
        "n_iter = 250000\n",
        "\n",
        "lr_mult = lambda epoch: (1 - (epoch / n_iter))\n",
        "sched = torch.optim.lr_scheduler.LambdaLR(optimizer, lr_mult)\n",
        "\n",
        "ppo = DecoupledPPO(policy, optimizer)"
      ]
    },
    {
      "cell_type": "code",
      "execution_count": 32,
      "metadata": {},
      "outputs": [
        {
          "data": {
            "image/png": "[encoded data removed]",
            "text/plain": [
              "<Figure size 640x480 with 1 Axes>"
            ]
          },
          "metadata": {},
          "output_type": "display_data"
        },
        {
          "name": "stderr",
          "output_type": "stream",
          "text": [
            "  8%|▊         | 20880/250000 [12:16<2:14:44, 28.34it/s]\n"
          ]
        },
        {
          "ename": "KeyboardInterrupt",
          "evalue": "",
          "output_type": "error",
          "traceback": [
            "\u001b[0;31m---------------------------------------------------------------------------\u001b[0m",
            "\u001b[0;31mKeyboardInterrupt\u001b[0m                         Traceback (most recent call last)",
            "Cell \u001b[0;32mIn[32], line 5\u001b[0m\n\u001b[1;32m      2\u001b[0m rewards \u001b[38;5;241m=\u001b[39m []\n\u001b[1;32m      4\u001b[0m \u001b[38;5;28;01mfor\u001b[39;00m i \u001b[38;5;129;01min\u001b[39;00m tqdm(\u001b[38;5;28mrange\u001b[39m(n_iter)):\n\u001b[0;32m----> 5\u001b[0m     trajectory \u001b[38;5;241m=\u001b[39m \u001b[43msampler\u001b[49m\u001b[38;5;241;43m.\u001b[39;49m\u001b[43mget_next\u001b[49m\u001b[43m(\u001b[49m\u001b[43m)\u001b[49m\n\u001b[1;32m      7\u001b[0m     \u001b[38;5;28;01mif\u001b[39;00m (i \u001b[38;5;241m+\u001b[39m \u001b[38;5;241m1\u001b[39m) \u001b[38;5;241m%\u001b[39m \u001b[38;5;241m100\u001b[39m \u001b[38;5;241m==\u001b[39m \u001b[38;5;241m0\u001b[39m:\n\u001b[1;32m      8\u001b[0m         clear_output(\u001b[38;5;28;01mTrue\u001b[39;00m)\n",
            "Cell \u001b[0;32mIn[22], line 51\u001b[0m, in \u001b[0;36mTrajectorySampler.get_next\u001b[0;34m(self)\u001b[0m\n\u001b[1;32m     48\u001b[0m     \u001b[38;5;28mself\u001b[39m\u001b[38;5;241m.\u001b[39mepoch_count \u001b[38;5;241m+\u001b[39m\u001b[38;5;241m=\u001b[39m \u001b[38;5;241m1\u001b[39m\n\u001b[1;32m     50\u001b[0m \u001b[38;5;28;01mif\u001b[39;00m \u001b[38;5;28mself\u001b[39m\u001b[38;5;241m.\u001b[39mepoch_count \u001b[38;5;241m==\u001b[39m \u001b[38;5;28mself\u001b[39m\u001b[38;5;241m.\u001b[39mnum_epochs:\n\u001b[0;32m---> 51\u001b[0m     \u001b[38;5;28;43mself\u001b[39;49m\u001b[38;5;241;43m.\u001b[39;49m\u001b[43mget_trajectory\u001b[49m\u001b[43m(\u001b[49m\u001b[43m)\u001b[49m\n\u001b[1;32m     52\u001b[0m     \u001b[38;5;28mself\u001b[39m\u001b[38;5;241m.\u001b[39mshuffle_trajectory()\n\u001b[1;32m     53\u001b[0m     \u001b[38;5;28mself\u001b[39m\u001b[38;5;241m.\u001b[39mminibatch_count \u001b[38;5;241m=\u001b[39m \u001b[38;5;241m0\u001b[39m\n",
            "Cell \u001b[0;32mIn[22], line 37\u001b[0m, in \u001b[0;36mTrajectorySampler.get_trajectory\u001b[0;34m(self)\u001b[0m\n\u001b[1;32m     36\u001b[0m \u001b[38;5;28;01mdef\u001b[39;00m\u001b[38;5;250m \u001b[39m\u001b[38;5;21mget_trajectory\u001b[39m(\u001b[38;5;28mself\u001b[39m):\n\u001b[0;32m---> 37\u001b[0m     \u001b[38;5;28mself\u001b[39m\u001b[38;5;241m.\u001b[39mtrajectory \u001b[38;5;241m=\u001b[39m \u001b[38;5;28;43mself\u001b[39;49m\u001b[38;5;241;43m.\u001b[39;49m\u001b[43mrunner\u001b[49m\u001b[38;5;241;43m.\u001b[39;49m\u001b[43mget_next\u001b[49m\u001b[43m(\u001b[49m\u001b[43m)\u001b[49m\n\u001b[1;32m     38\u001b[0m     \u001b[38;5;28mself\u001b[39m\u001b[38;5;241m.\u001b[39msqueeze_trajectory()\n",
            "Cell \u001b[0;32mIn[12], line 39\u001b[0m, in \u001b[0;36mEnvRunner.get_next\u001b[0;34m(self)\u001b[0m\n\u001b[1;32m     37\u001b[0m \u001b[38;5;28;01mfor\u001b[39;00m i \u001b[38;5;129;01min\u001b[39;00m \u001b[38;5;28mrange\u001b[39m(\u001b[38;5;28mself\u001b[39m\u001b[38;5;241m.\u001b[39mrollout_length):\n\u001b[1;32m     38\u001b[0m     observations\u001b[38;5;241m.\u001b[39mappend(\u001b[38;5;28mself\u001b[39m\u001b[38;5;241m.\u001b[39mstate[\u001b[38;5;124m\"\u001b[39m\u001b[38;5;124mlatest_observation\u001b[39m\u001b[38;5;124m\"\u001b[39m])\n\u001b[0;32m---> 39\u001b[0m     act \u001b[38;5;241m=\u001b[39m \u001b[38;5;28;43mself\u001b[39;49m\u001b[38;5;241;43m.\u001b[39;49m\u001b[43mpolicy\u001b[49m\u001b[38;5;241;43m.\u001b[39;49m\u001b[43mact\u001b[49m\u001b[43m(\u001b[49m\u001b[38;5;28;43mself\u001b[39;49m\u001b[38;5;241;43m.\u001b[39;49m\u001b[43mstate\u001b[49m\u001b[43m[\u001b[49m\u001b[38;5;124;43m\"\u001b[39;49m\u001b[38;5;124;43mlatest_observation\u001b[39;49m\u001b[38;5;124;43m\"\u001b[39;49m\u001b[43m]\u001b[49m\u001b[43m)\u001b[49m\n\u001b[1;32m     40\u001b[0m     \u001b[38;5;28;01mif\u001b[39;00m \u001b[38;5;124m\"\u001b[39m\u001b[38;5;124mactions\u001b[39m\u001b[38;5;124m\"\u001b[39m \u001b[38;5;129;01mnot\u001b[39;00m \u001b[38;5;129;01min\u001b[39;00m act:\n\u001b[1;32m     41\u001b[0m         \u001b[38;5;28;01mraise\u001b[39;00m \u001b[38;5;167;01mValueError\u001b[39;00m(\n\u001b[1;32m     42\u001b[0m             \u001b[38;5;124m\"\u001b[39m\u001b[38;5;124mresult of policy.act must contain \u001b[39m\u001b[38;5;124m'\u001b[39m\u001b[38;5;124mactions\u001b[39m\u001b[38;5;124m'\u001b[39m\u001b[38;5;124m \u001b[39m\u001b[38;5;124m\"\u001b[39m\n\u001b[1;32m     43\u001b[0m             \u001b[38;5;124mf\u001b[39m\u001b[38;5;124m\"\u001b[39m\u001b[38;5;124mbut has keys \u001b[39m\u001b[38;5;132;01m{\u001b[39;00m\u001b[38;5;28mlist\u001b[39m(act\u001b[38;5;241m.\u001b[39mkeys())\u001b[38;5;132;01m}\u001b[39;00m\u001b[38;5;124m\"\u001b[39m\n\u001b[1;32m     44\u001b[0m         )\n",
            "Cell \u001b[0;32mIn[10], line 14\u001b[0m, in \u001b[0;36mPolicy.act\u001b[0;34m(self, inputs, training)\u001b[0m\n\u001b[1;32m     12\u001b[0m mean, var \u001b[38;5;241m=\u001b[39m \u001b[38;5;28mself\u001b[39m\u001b[38;5;241m.\u001b[39mmodel\u001b[38;5;241m.\u001b[39mget_policy(inputs)\n\u001b[1;32m     13\u001b[0m cov_matrix \u001b[38;5;241m=\u001b[39m torch\u001b[38;5;241m.\u001b[39mdiag_embed(var)\n\u001b[0;32m---> 14\u001b[0m normal_distr \u001b[38;5;241m=\u001b[39m \u001b[43mMultivariateNormal\u001b[49m\u001b[43m(\u001b[49m\u001b[43mmean\u001b[49m\u001b[43m,\u001b[49m\u001b[43m \u001b[49m\u001b[43mcov_matrix\u001b[49m\u001b[43m)\u001b[49m\n\u001b[1;32m     16\u001b[0m actions \u001b[38;5;241m=\u001b[39m normal_distr\u001b[38;5;241m.\u001b[39msample()\n\u001b[1;32m     17\u001b[0m log_probs \u001b[38;5;241m=\u001b[39m normal_distr\u001b[38;5;241m.\u001b[39mlog_prob(actions)\n",
            "File \u001b[0;32m~/anaconda3/envs/RL_course/lib/python3.9/site-packages/torch/distributions/multivariate_normal.py:180\u001b[0m, in \u001b[0;36mMultivariateNormal.__init__\u001b[0;34m(self, loc, covariance_matrix, precision_matrix, scale_tril, validate_args)\u001b[0m\n\u001b[1;32m    177\u001b[0m \u001b[38;5;28mself\u001b[39m\u001b[38;5;241m.\u001b[39mloc \u001b[38;5;241m=\u001b[39m loc\u001b[38;5;241m.\u001b[39mexpand(batch_shape \u001b[38;5;241m+\u001b[39m (\u001b[38;5;241m-\u001b[39m\u001b[38;5;241m1\u001b[39m,))\n\u001b[1;32m    179\u001b[0m event_shape \u001b[38;5;241m=\u001b[39m \u001b[38;5;28mself\u001b[39m\u001b[38;5;241m.\u001b[39mloc\u001b[38;5;241m.\u001b[39mshape[\u001b[38;5;241m-\u001b[39m\u001b[38;5;241m1\u001b[39m:]\n\u001b[0;32m--> 180\u001b[0m \u001b[38;5;28;43msuper\u001b[39;49m\u001b[43m(\u001b[49m\u001b[43m)\u001b[49m\u001b[38;5;241;43m.\u001b[39;49m\u001b[38;5;21;43m__init__\u001b[39;49m\u001b[43m(\u001b[49m\u001b[43mbatch_shape\u001b[49m\u001b[43m,\u001b[49m\u001b[43m \u001b[49m\u001b[43mevent_shape\u001b[49m\u001b[43m,\u001b[49m\u001b[43m \u001b[49m\u001b[43mvalidate_args\u001b[49m\u001b[38;5;241;43m=\u001b[39;49m\u001b[43mvalidate_args\u001b[49m\u001b[43m)\u001b[49m\n\u001b[1;32m    182\u001b[0m \u001b[38;5;28;01mif\u001b[39;00m scale_tril \u001b[38;5;129;01mis\u001b[39;00m \u001b[38;5;129;01mnot\u001b[39;00m \u001b[38;5;28;01mNone\u001b[39;00m:\n\u001b[1;32m    183\u001b[0m     \u001b[38;5;28mself\u001b[39m\u001b[38;5;241m.\u001b[39m_unbroadcasted_scale_tril \u001b[38;5;241m=\u001b[39m scale_tril\n",
            "File \u001b[0;32m~/anaconda3/envs/RL_course/lib/python3.9/site-packages/torch/distributions/distribution.py:69\u001b[0m, in \u001b[0;36mDistribution.__init__\u001b[0;34m(self, batch_shape, event_shape, validate_args)\u001b[0m\n\u001b[1;32m     67\u001b[0m     \u001b[38;5;28;01mcontinue\u001b[39;00m  \u001b[38;5;66;03m# skip checking lazily-constructed args\u001b[39;00m\n\u001b[1;32m     68\u001b[0m value \u001b[38;5;241m=\u001b[39m \u001b[38;5;28mgetattr\u001b[39m(\u001b[38;5;28mself\u001b[39m, param)\n\u001b[0;32m---> 69\u001b[0m valid \u001b[38;5;241m=\u001b[39m \u001b[43mconstraint\u001b[49m\u001b[38;5;241;43m.\u001b[39;49m\u001b[43mcheck\u001b[49m\u001b[43m(\u001b[49m\u001b[43mvalue\u001b[49m\u001b[43m)\u001b[49m\n\u001b[1;32m     70\u001b[0m \u001b[38;5;28;01mif\u001b[39;00m \u001b[38;5;129;01mnot\u001b[39;00m valid\u001b[38;5;241m.\u001b[39mall():\n\u001b[1;32m     71\u001b[0m     \u001b[38;5;28;01mraise\u001b[39;00m \u001b[38;5;167;01mValueError\u001b[39;00m(\n\u001b[1;32m     72\u001b[0m         \u001b[38;5;124mf\u001b[39m\u001b[38;5;124m\"\u001b[39m\u001b[38;5;124mExpected parameter \u001b[39m\u001b[38;5;132;01m{\u001b[39;00mparam\u001b[38;5;132;01m}\u001b[39;00m\u001b[38;5;124m \u001b[39m\u001b[38;5;124m\"\u001b[39m\n\u001b[1;32m     73\u001b[0m         \u001b[38;5;124mf\u001b[39m\u001b[38;5;124m\"\u001b[39m\u001b[38;5;124m(\u001b[39m\u001b[38;5;132;01m{\u001b[39;00m\u001b[38;5;28mtype\u001b[39m(value)\u001b[38;5;241m.\u001b[39m\u001b[38;5;18m__name__\u001b[39m\u001b[38;5;132;01m}\u001b[39;00m\u001b[38;5;124m of shape \u001b[39m\u001b[38;5;132;01m{\u001b[39;00m\u001b[38;5;28mtuple\u001b[39m(value\u001b[38;5;241m.\u001b[39mshape)\u001b[38;5;132;01m}\u001b[39;00m\u001b[38;5;124m) \u001b[39m\u001b[38;5;124m\"\u001b[39m\n\u001b[0;32m   (...)\u001b[0m\n\u001b[1;32m     76\u001b[0m         \u001b[38;5;124mf\u001b[39m\u001b[38;5;124m\"\u001b[39m\u001b[38;5;124mbut found invalid values:\u001b[39m\u001b[38;5;130;01m\\n\u001b[39;00m\u001b[38;5;132;01m{\u001b[39;00mvalue\u001b[38;5;132;01m}\u001b[39;00m\u001b[38;5;124m\"\u001b[39m\n\u001b[1;32m     77\u001b[0m     )\n",
            "File \u001b[0;32m~/anaconda3/envs/RL_course/lib/python3.9/site-packages/torch/distributions/constraints.py:581\u001b[0m, in \u001b[0;36m_PositiveDefinite.check\u001b[0;34m(self, value)\u001b[0m\n\u001b[1;32m    579\u001b[0m \u001b[38;5;28;01mif\u001b[39;00m \u001b[38;5;129;01mnot\u001b[39;00m sym_check\u001b[38;5;241m.\u001b[39mall():\n\u001b[1;32m    580\u001b[0m     \u001b[38;5;28;01mreturn\u001b[39;00m sym_check\n\u001b[0;32m--> 581\u001b[0m \u001b[38;5;28;01mreturn\u001b[39;00m \u001b[43mtorch\u001b[49m\u001b[38;5;241;43m.\u001b[39;49m\u001b[43mlinalg\u001b[49m\u001b[38;5;241;43m.\u001b[39;49m\u001b[43mcholesky_ex\u001b[49m\u001b[43m(\u001b[49m\u001b[43mvalue\u001b[49m\u001b[43m)\u001b[49m\u001b[38;5;241;43m.\u001b[39;49m\u001b[43minfo\u001b[49m\u001b[38;5;241;43m.\u001b[39;49m\u001b[43meq\u001b[49m\u001b[43m(\u001b[49m\u001b[38;5;241;43m0\u001b[39;49m\u001b[43m)\u001b[49m\n",
            "\u001b[0;31mKeyboardInterrupt\u001b[0m: "
          ]
        }
      ],
      "source": [
        "steps = []\n",
        "rewards = []\n",
        "\n",
        "for i in tqdm(range(n_iter)):\n",
        "    trajectory = sampler.get_next()\n",
        "\n",
        "    if (i + 1) % 100 == 0:\n",
        "        clear_output(True)\n",
        "        rewards.append(vec_env.env.env.env.return_queue[-1])\n",
        "        steps.append(sampler.runner.step_var)\n",
        "\n",
        "        plt.plot(steps, rewards, label=\"episode rewards\")\n",
        "        plt.title(\"Reward\")\n",
        "        plt.xlabel(\"Total steps\")\n",
        "        plt.ylabel(\"Reward\")\n",
        "        plt.grid()\n",
        "        plt.show()\n",
        "\n",
        "    ppo.step(trajectory)\n",
        "    sched.step()"
      ]
    },
    {
      "cell_type": "code",
      "execution_count": null,
      "metadata": {},
      "outputs": [],
      "source": []
    },
    {
      "cell_type": "code",
      "execution_count": null,
      "metadata": {},
      "outputs": [],
      "source": []
    },
    {
      "cell_type": "markdown",
      "metadata": {
        "id": "-xQipb1w48Qz"
      },
      "source": [
        "## Evaluation"
      ]
    },
    {
      "cell_type": "code",
      "execution_count": 79,
      "metadata": {
        "id": "sixQI_jMASJR"
      },
      "outputs": [],
      "source": [
        "def evaluate(env, actor, n_games=1, t_max=1000):\n",
        "    \"\"\"\n",
        "    Plays n_games and returns rewards and rendered games\n",
        "    \"\"\"\n",
        "    rewards = []\n",
        "\n",
        "    for _ in range(n_games):\n",
        "        s, _ = env.reset()\n",
        "\n",
        "        R = 0\n",
        "        for _ in range(t_max):\n",
        "            # select action for final evaluation of your policy\n",
        "            action = actor.act(np.array([s]), training=False)[\"actions\"]\n",
        "\n",
        "            s, r, terminated, truncated, _ = env.step(action)\n",
        "\n",
        "            R += r\n",
        "\n",
        "            if terminated or truncated:\n",
        "                break\n",
        "\n",
        "        rewards.append(R)\n",
        "    return np.array(rewards)"
      ]
    },
    {
      "cell_type": "code",
      "execution_count": 80,
      "metadata": {
        "colab": {
          "base_uri": "https://localhost:8080/"
        },
        "id": "JHPFX0eZ48Q0",
        "outputId": "6cad70ab-ea62-4293-e05d-14b339bf94fd"
      },
      "outputs": [
        {
          "name": "stderr",
          "output_type": "stream",
          "text": [
            "/Users/ilyaparfenenko/Library/Python/3.9/lib/python/site-packages/gymnasium/wrappers/rendering.py:283: UserWarning: \u001b[33mWARN: Overwriting existing videos at /Users/ilyaparfenenko/Downloads/videos folder (try specifying a different `video_folder` for the `RecordVideo` wrapper if this is not desired)\u001b[0m\n",
            "  logger.warn(\n"
          ]
        },
        {
          "name": "stdout",
          "output_type": "stream",
          "text": [
            "[2306.94726506 2203.71880969 2341.47620745 2207.04956891 2162.29598199]\n"
          ]
        }
      ],
      "source": [
        "from gymnasium.wrappers import (\n",
        "    RecordVideo,\n",
        "    NormalizeObservation as SingleEnvNormalization,\n",
        ")\n",
        "\n",
        "# let's hope this will work\n",
        "# don't forget to pray\n",
        "test_env = gym.make(\"HalfCheetah-v5\", render_mode=\"rgb_array\")\n",
        "test_env = SingleEnvNormalization(test_env)\n",
        "test_env.obs_rms = (\n",
        "    vec_env.env.env.obs_rms\n",
        ")  # use the same statistics collected on training\n",
        "env_monitor = RecordVideo(env=test_env, video_folder=\"./videos\")\n",
        "results = evaluate(env_monitor, policy, n_games=5, t_max=1000)\n",
        "\n",
        "print(results)"
      ]
    },
    {
      "cell_type": "code",
      "execution_count": 81,
      "metadata": {
        "colab": {
          "base_uri": "https://localhost:8080/",
          "height": 501
        },
        "id": "gyOigVor48Q0",
        "outputId": "258543f9-cdb8-4dbc-da7c-12c6b4aae230"
      },
      "outputs": [
        {
          "data": {
            "text/html": [
              "\n",
              "<video width=\"640\" height=\"480\" controls>\n",
              "  <source src=\"videos/rl-video-episode-1.mp4\" type=\"video/mp4\">\n",
              "</video>\n"
            ],
            "text/plain": [
              "<IPython.core.display.HTML object>"
            ]
          },
          "execution_count": 81,
          "metadata": {},
          "output_type": "execute_result"
        }
      ],
      "source": [
        "# Show video. This may not work in some setups. If it doesn't\n",
        "# work for you, you can download the videos and view them locally.\n",
        "\n",
        "from pathlib import Path\n",
        "from base64 import b64encode\n",
        "from IPython.display import HTML\n",
        "import sys\n",
        "\n",
        "video_paths = sorted([s for s in Path(\"videos\").iterdir() if s.suffix == \".mp4\"])\n",
        "video_path = video_paths[-1]  # You can also try other indices\n",
        "\n",
        "if \"google.colab\" in sys.modules:\n",
        "    # https://stackoverflow.com/a/57378660/1214547\n",
        "    with video_path.open(\"rb\") as fp:\n",
        "        mp4 = fp.read()\n",
        "    data_url = \"data:video/mp4;base64,\" + b64encode(mp4).decode()\n",
        "else:\n",
        "    data_url = str(video_path)\n",
        "\n",
        "HTML(\n",
        "    \"\"\"\n",
        "<video width=\"640\" height=\"480\" controls>\n",
        "  <source src=\"{}\" type=\"video/mp4\">\n",
        "</video>\n",
        "\"\"\".format(\n",
        "        data_url\n",
        "    )\n",
        ")"
      ]
    }
  ],
  "metadata": {
    "accelerator": "GPU",
    "colab": {
      "gpuType": "T4",
      "provenance": []
    },
    "kernelspec": {
      "display_name": "Python 3",
      "name": "python3"
    },
    "language_info": {
      "codemirror_mode": {
        "name": "ipython",
        "version": 3
      },
      "file_extension": ".py",
      "mimetype": "text/x-python",
      "name": "python",
      "nbconvert_exporter": "python",
      "pygments_lexer": "ipython3",
      "version": "3.9.6"
    }
  },
  "nbformat": 4,
  "nbformat_minor": 0
}
